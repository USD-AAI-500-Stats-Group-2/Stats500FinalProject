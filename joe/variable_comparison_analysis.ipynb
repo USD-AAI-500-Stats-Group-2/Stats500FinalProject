{
 "cells": [
  {
   "cell_type": "markdown",
   "metadata": {},
   "source": [
    "# Group Comparison Analysis: Study Habits and Exam Performance\n",
    "## T-tests, ANOVA, and Chi-Squared Tests\n",
    "\n",
    "This notebook explores exam score differences across groups using:\n",
    "- **T-tests**: Comparing exam scores between two groups\n",
    "- **ANOVA**: Comparing exam scores across three or more groups\n",
    "- **Chi-squared tests**: Examining associations between categorical variables\n",
    "\n",
    "### Research Questions:\n",
    "1. Do students with high study hours score higher on exams than students with low study hours?\n",
    "2. Do students with good mental health score higher on exams than students with poor mental health?\n",
    "3. Does exam performance differ across multiple study hour categories?\n",
    "4. Does exam performance differ across multiple mental health categories?\n",
    "5. Does exam performance differ across exercise frequency levels?\n",
    "6. Does exam performance differ across netflix viewing time categories?\n",
    "7. Does exam performance differ across diet quality levels?\n",
    "8. Is exam performance associated with parental education level?\n",
    "9. Is exam performance associated with diet quality?\n",
    "\n",
    "### Statistical Methods:\n",
    "- Independent samples t-test\n",
    "- One-way ANOVA\n",
    "- Post-hoc tests (Tukey HSD)\n",
    "- Effect size measures (Cohen's d, eta-squared)\n",
    "- Chi-squared test of independence\n",
    "- Cramér's V effect size"
   ]
  },
  {
   "cell_type": "code",
   "execution_count": 387,
   "metadata": {},
   "outputs": [],
   "source": [
    "# Import required libraries\n",
    "import pandas as pd\n",
    "import numpy as np\n",
    "import matplotlib.pyplot as plt\n",
    "from scipy import stats\n",
    "from scipy.stats import ttest_ind, f_oneway, shapiro, levene\n",
    "from statsmodels.stats.multicomp import pairwise_tukeyhsd\n",
    "import warnings\n",
    "warnings.filterwarnings('ignore')\n",
    "\n",
    "# Set visualization style\n",
    "plt.style.use('seaborn-v0_8-whitegrid')\n",
    "plt.rcParams['figure.figsize'] = (12, 6)\n",
    "plt.rcParams['font.size'] = 11"
   ]
  },
  {
   "cell_type": "markdown",
   "metadata": {},
   "source": [
    "## 1. Data Loading and Preparation"
   ]
  },
  {
   "cell_type": "code",
   "execution_count": 388,
   "metadata": {},
   "outputs": [
    {
     "name": "stdout",
     "output_type": "stream",
     "text": [
      "Dataset shape: (1000, 16)\n",
      "Variables of interest:\n",
      "       study_hours_per_day  mental_health_rating   exam_score\n",
      "count           1000.00000           1000.000000  1000.000000\n",
      "mean               3.55010              5.438000    69.601500\n",
      "std                1.46889              2.847501    16.888564\n",
      "min                0.00000              1.000000    18.400000\n",
      "25%                2.60000              3.000000    58.475000\n",
      "50%                3.50000              5.000000    70.500000\n",
      "75%                4.50000              8.000000    81.325000\n",
      "max                8.30000             10.000000   100.000000\n"
     ]
    }
   ],
   "source": [
    "# Load the dataset\n",
    "df = pd.read_csv('/Users/jje/src/Stats500FinalProject/data/student_habits_performance.csv', keep_default_na=False)\n",
    "\n",
    "print(f\"Dataset shape: {df.shape}\")\n",
    "print(f\"Variables of interest:\")\n",
    "print(df[['study_hours_per_day', 'mental_health_rating', 'exam_score']].describe())"
   ]
  },
  {
   "cell_type": "markdown",
   "metadata": {},
   "source": [
    "## 2. Creating Group Categories\n",
    "\n",
    "We'll create categorical groups based on continuous variables for group comparisons."
   ]
  },
  {
   "cell_type": "code",
   "execution_count": 389,
   "metadata": {},
   "outputs": [
    {
     "name": "stdout",
     "output_type": "stream",
     "text": [
      "Group Distribution - Study Hours (2 groups): studyGroup2\n",
      "High Study Hours    529\n",
      "Low Study Hours     471\n",
      "Name: count, dtype: int64\n",
      "Group Distribution - Study Hours (3 groups): studyGroup3\n",
      "Medium    347\n",
      "High      339\n",
      "Low       314\n",
      "Name: count, dtype: int64\n",
      "Group Distribution - Mental Health (2 groups): mentalGroup2\n",
      "Higher Mental Health    589\n",
      "Lower Mental Health     411\n",
      "Name: count, dtype: int64\n",
      "Group Distribution - Mental Health (3 groups): mentalGroup3\n",
      "High      382\n",
      "Medium    317\n",
      "Low       301\n",
      "Name: count, dtype: int64\n",
      "Group Distribution - Exercise Frequency (3 groups): exerciseGroup3\n",
      "High      435\n",
      "Low       290\n",
      "Medium    275\n",
      "Name: count, dtype: int64\n",
      "Group Distribution - Netflix Hours (3 groups): netflixGroup3\n",
      "High      342\n",
      "Medium    339\n",
      "Low       319\n",
      "Name: count, dtype: int64\n",
      "Group Distribution - Diet Quality (categorical): diet_quality\n",
      "Fair    437\n",
      "Good    378\n",
      "Poor    185\n",
      "Name: count, dtype: int64\n"
     ]
    }
   ],
   "source": [
    "# Create study hours groups (2 groups for t-test)\n",
    "studyMedian = df['study_hours_per_day'].median()\n",
    "df['studyGroup2'] = df['study_hours_per_day'].apply(\n",
    "    lambda x: 'Low Study Hours' if x < studyMedian else 'High Study Hours'\n",
    ")\n",
    "\n",
    "# Create study hours groups (3 groups for ANOVA)\n",
    "studyQ1 = df['study_hours_per_day'].quantile(0.33)\n",
    "studyQ2 = df['study_hours_per_day'].quantile(0.67)\n",
    "df['studyGroup3'] = df['study_hours_per_day'].apply(\n",
    "    lambda x: 'Low' if x < studyQ1 else ('Medium' if x < studyQ2 else 'High')\n",
    ")\n",
    "\n",
    "# Create mental health groups (2 groups for t-test)\n",
    "mentalMedian = df['mental_health_rating'].median()\n",
    "df['mentalGroup2'] = df['mental_health_rating'].apply(\n",
    "    lambda x: 'Lower Mental Health' if x < mentalMedian else 'Higher Mental Health'\n",
    ")\n",
    "\n",
    "# Create mental health groups (3 groups for ANOVA)\n",
    "mentalQ1 = df['mental_health_rating'].quantile(0.33)\n",
    "mentalQ2 = df['mental_health_rating'].quantile(0.67)\n",
    "df['mentalGroup3'] = df['mental_health_rating'].apply(\n",
    "    lambda x: 'Low' if x < mentalQ1 else ('Medium' if x < mentalQ2 else 'High')\n",
    ")\n",
    "\n",
    "# Create exercise frequency groups (3 groups for ANOVA)\n",
    "exerciseQ1 = df['exercise_frequency'].quantile(0.33)\n",
    "exerciseQ2 = df['exercise_frequency'].quantile(0.67)\n",
    "df['exerciseGroup3'] = df['exercise_frequency'].apply(\n",
    "    lambda x: 'Low' if x < exerciseQ1 else ('Medium' if x < exerciseQ2 else 'High')\n",
    ")\n",
    "\n",
    "# Create netflix hours groups (3 groups for ANOVA)\n",
    "netflixQ1 = df['netflix_hours'].quantile(0.33)\n",
    "netflixQ2 = df['netflix_hours'].quantile(0.67)\n",
    "df['netflixGroup3'] = df['netflix_hours'].apply(\n",
    "    lambda x: 'Low' if x < netflixQ1 else ('Medium' if x < netflixQ2 else 'High')\n",
    ")\n",
    "\n",
    "# diet_quality is already categorical, so no grouping needed\n",
    "\n",
    "print(f\"Group Distribution - Study Hours (2 groups): {df['studyGroup2'].value_counts()}\")\n",
    "print(f\"Group Distribution - Study Hours (3 groups): {df['studyGroup3'].value_counts()}\")\n",
    "print(f\"Group Distribution - Mental Health (2 groups): {df['mentalGroup2'].value_counts()}\")\n",
    "print(f\"Group Distribution - Mental Health (3 groups): {df['mentalGroup3'].value_counts()}\")\n",
    "print(f\"Group Distribution - Exercise Frequency (3 groups): {df['exerciseGroup3'].value_counts()}\")\n",
    "print(f\"Group Distribution - Netflix Hours (3 groups): {df['netflixGroup3'].value_counts()}\")\n",
    "print(f\"Group Distribution - Diet Quality (categorical): {df['diet_quality'].value_counts()}\")"
   ]
  },
  {
   "cell_type": "markdown",
   "metadata": {},
   "source": [
    "## 3. T-Test Analysis (2 Groups)\n",
    "\n",
    "### 3.1 Study Hours Groups: Independent Samples T-Test\n",
    "\n",
    "**Hypotheses:**\n",
    "- H₀: Mean exam scores are equal between low and high study hour groups\n",
    "- H₁: Mean exam scores differ between low and high study hour groups"
   ]
  },
  {
   "cell_type": "code",
   "execution_count": 390,
   "metadata": {},
   "outputs": [
    {
     "name": "stdout",
     "output_type": "stream",
     "text": [
      "Descriptive Statistics by Study Hours Group:\n",
      "Low Study Hours (n=471):\n",
      "Mean: 57.81\n",
      "SD: 13.28\n",
      "Median: 58.40\n",
      "High Study Hours (n=529):\n",
      "Mean: 80.10\n",
      "SD: 12.17\n",
      "Median: 79.60\n",
      "Mean Difference: 22.30 points\n"
     ]
    }
   ],
   "source": [
    "# Separate groups\n",
    "lowStudyScores = df[df['studyGroup2'] == 'Low Study Hours']['exam_score']\n",
    "highStudyScores = df[df['studyGroup2'] == 'High Study Hours']['exam_score']\n",
    "\n",
    "# Descriptive statistics\n",
    "print(\"Descriptive Statistics by Study Hours Group:\")\n",
    "print(f\"Low Study Hours (n={len(lowStudyScores)}):\")\n",
    "print(f\"Mean: {lowStudyScores.mean():.2f}\")\n",
    "print(f\"SD: {lowStudyScores.std():.2f}\")\n",
    "print(f\"Median: {lowStudyScores.median():.2f}\")\n",
    "\n",
    "print(f\"High Study Hours (n={len(highStudyScores)}):\")\n",
    "print(f\"Mean: {highStudyScores.mean():.2f}\")\n",
    "print(f\"SD: {highStudyScores.std():.2f}\")\n",
    "print(f\"Median: {highStudyScores.median():.2f}\")\n",
    "\n",
    "print(f\"Mean Difference: {highStudyScores.mean() - lowStudyScores.mean():.2f} points\")"
   ]
  },
  {
   "cell_type": "code",
   "execution_count": 391,
   "metadata": {},
   "outputs": [
    {
     "name": "stdout",
     "output_type": "stream",
     "text": [
      "1. Normality (Shapiro-Wilk test):\n",
      "Low Study Hours: p = 0.1422 (Normal)\n",
      "High Study Hours: p = 0.0000 (Not Normal)\n",
      "2. Homogeneity of Variance (Levene's test):\n",
      "p = 0.1378 (Equal variances)\n"
     ]
    }
   ],
   "source": [
    "# 1. Normality test\n",
    "statLow, pLow = shapiro(lowStudyScores)\n",
    "statHigh, pHigh = shapiro(highStudyScores)\n",
    "\n",
    "print(\"1. Normality (Shapiro-Wilk test):\")\n",
    "print(f\"Low Study Hours: p = {pLow:.4f} {'(Normal)' if pLow > 0.05 else '(Not Normal)'}\")\n",
    "print(f\"High Study Hours: p = {pHigh:.4f} {'(Normal)' if pHigh > 0.05 else '(Not Normal)'}\")\n",
    "\n",
    "# 2. Homogeneity of variance\n",
    "statLevene, pLevene = levene(lowStudyScores, highStudyScores)\n",
    "print(f\"2. Homogeneity of Variance (Levene's test):\")\n",
    "print(f\"p = {pLevene:.4f} {'(Equal variances)' if pLevene > 0.05 else '(Unequal variances)'}\")"
   ]
  },
  {
   "cell_type": "code",
   "execution_count": 392,
   "metadata": {},
   "outputs": [
    {
     "name": "stdout",
     "output_type": "stream",
     "text": [
      "Independent Samples T-Test Results:\n",
      "t-statistic: 27.7087\n",
      "p-value: 8.4759e-126\n",
      "Significance: Significant at α = 0.05\n",
      "Effect Size (Cohen's d): 1.7554\n",
      "Interpretation: Large effect\n"
     ]
    }
   ],
   "source": [
    "# Perform t-test\n",
    "tStat, pValue = ttest_ind(highStudyScores, lowStudyScores, equal_var=(pLevene > 0.05))\n",
    "\n",
    "print(\"Independent Samples T-Test Results:\")\n",
    "print(f\"t-statistic: {tStat:.4f}\")\n",
    "print(f\"p-value: {pValue:.4e}\")\n",
    "print(f\"Significance: {'Significant' if pValue < 0.05 else 'Not Significant'} at α = 0.05\")\n",
    "\n",
    "# Calculate Cohen's d (effect size)\n",
    "pooledStd = np.sqrt(((len(lowStudyScores)-1)*lowStudyScores.std()**2 + \n",
    "                      (len(highStudyScores)-1)*highStudyScores.std()**2) / \n",
    "                     (len(lowStudyScores) + len(highStudyScores) - 2))\n",
    "cohensD = (highStudyScores.mean() - lowStudyScores.mean()) / pooledStd\n",
    "\n",
    "print(f\"Effect Size (Cohen's d): {cohensD:.4f}\")\n",
    "if abs(cohensD) < 0.2:\n",
    "    effect = \"negligible\"\n",
    "elif abs(cohensD) < 0.5:\n",
    "    effect = \"small\"\n",
    "elif abs(cohensD) < 0.8:\n",
    "    effect = \"medium\"\n",
    "else:\n",
    "    effect = \"large\"\n",
    "print(f\"Interpretation: {effect.capitalize()} effect\")"
   ]
  },
  {
   "cell_type": "markdown",
   "metadata": {},
   "source": [
    "### 3.2 Mental Health Groups: Independent Samples T-Test\n",
    "\n",
    "**Hypotheses:**\n",
    "- H₀: Mean exam scores are equal between lower and higher mental health groups\n",
    "- H₁: Mean exam scores differ between lower and higher mental health groups"
   ]
  },
  {
   "cell_type": "code",
   "execution_count": 393,
   "metadata": {},
   "outputs": [
    {
     "name": "stdout",
     "output_type": "stream",
     "text": [
      "Descriptive Statistics by Mental Health Group:\n",
      "Lower Mental Health (n=411):\n",
      "Mean: 64.03\n",
      "SD: 16.39\n",
      "Median: 64.20\n",
      "Higher Mental Health (n=589):\n",
      "Mean: 73.49\n",
      "SD: 16.14\n",
      "Median: 74.00\n",
      "Mean Difference: 9.45 points\n"
     ]
    }
   ],
   "source": [
    "# Separate groups\n",
    "lowerMentalScores = df[df['mentalGroup2'] == 'Lower Mental Health']['exam_score']\n",
    "higherMentalScores = df[df['mentalGroup2'] == 'Higher Mental Health']['exam_score']\n",
    "\n",
    "# Descriptive statistics\n",
    "print(\"Descriptive Statistics by Mental Health Group:\")\n",
    "print(f\"Lower Mental Health (n={len(lowerMentalScores)}):\")\n",
    "print(f\"Mean: {lowerMentalScores.mean():.2f}\")\n",
    "print(f\"SD: {lowerMentalScores.std():.2f}\")\n",
    "print(f\"Median: {lowerMentalScores.median():.2f}\")\n",
    "\n",
    "print(f\"Higher Mental Health (n={len(higherMentalScores)}):\")\n",
    "print(f\"Mean: {higherMentalScores.mean():.2f}\")\n",
    "print(f\"SD: {higherMentalScores.std():.2f}\")\n",
    "print(f\"Median: {higherMentalScores.median():.2f}\")\n",
    "\n",
    "print(f\"Mean Difference: {higherMentalScores.mean() - lowerMentalScores.mean():.2f} points\")"
   ]
  },
  {
   "cell_type": "code",
   "execution_count": 394,
   "metadata": {},
   "outputs": [
    {
     "name": "stdout",
     "output_type": "stream",
     "text": [
      "1. Normality (Shapiro-Wilk test):\n",
      "Lower Mental Health: p = 0.0834 (Normal)\n",
      "Higher Mental Health: p = 0.0000 (Not Normal)\n",
      "2. Homogeneity of Variance (Levene's test):\n",
      "p = 0.9070 (Equal variances)\n"
     ]
    }
   ],
   "source": [
    "# Check assumptions\n",
    "\n",
    "# 1. Normality test\n",
    "statLow, pLow = shapiro(lowerMentalScores)\n",
    "statHigh, pHigh = shapiro(higherMentalScores)\n",
    "\n",
    "print(\"1. Normality (Shapiro-Wilk test):\")\n",
    "print(f\"Lower Mental Health: p = {pLow:.4f} {'(Normal)' if pLow > 0.05 else '(Not Normal)'}\")\n",
    "print(f\"Higher Mental Health: p = {pHigh:.4f} {'(Normal)' if pHigh > 0.05 else '(Not Normal)'}\")\n",
    "\n",
    "# 2. Homogeneity of variance\n",
    "statLevene, pLevene = levene(lowerMentalScores, higherMentalScores)\n",
    "print(f\"2. Homogeneity of Variance (Levene's test):\")\n",
    "print(f\"p = {pLevene:.4f} {'(Equal variances)' if pLevene > 0.05 else '(Unequal variances)'}\")"
   ]
  },
  {
   "cell_type": "code",
   "execution_count": 395,
   "metadata": {},
   "outputs": [
    {
     "name": "stdout",
     "output_type": "stream",
     "text": [
      "Independent Samples T-Test Results:\n",
      "t-statistic: 9.0529\n",
      "p-value: 7.1393e-19\n",
      "Significance: Significant at α = 0.05\n",
      "Effect Size (Cohen's d): 0.5818\n",
      "Interpretation: Medium effect\n"
     ]
    }
   ],
   "source": [
    "# Perform t-test\n",
    "tStat, pValue = ttest_ind(higherMentalScores, lowerMentalScores, equal_var=(pLevene > 0.05))\n",
    "\n",
    "print(\"Independent Samples T-Test Results:\")\n",
    "print(f\"t-statistic: {tStat:.4f}\")\n",
    "print(f\"p-value: {pValue:.4e}\")\n",
    "print(f\"Significance: {'Significant' if pValue < 0.05 else 'Not Significant'} at α = 0.05\")\n",
    "\n",
    "# Calculate Cohen's d (effect size)\n",
    "pooledStd = np.sqrt(((len(lowerMentalScores)-1)*lowerMentalScores.std()**2 + \n",
    "                      (len(higherMentalScores)-1)*higherMentalScores.std()**2) / \n",
    "                     (len(lowerMentalScores) + len(higherMentalScores) - 2))\n",
    "cohensD = (higherMentalScores.mean() - lowerMentalScores.mean()) / pooledStd\n",
    "\n",
    "print(f\"Effect Size (Cohen's d): {cohensD:.4f}\")\n",
    "if abs(cohensD) < 0.2:\n",
    "    effect = \"negligible\"\n",
    "elif abs(cohensD) < 0.5:\n",
    "    effect = \"small\"\n",
    "elif abs(cohensD) < 0.8:\n",
    "    effect = \"medium\"\n",
    "else:\n",
    "    effect = \"large\"\n",
    "print(f\"Interpretation: {effect.capitalize()} effect\")"
   ]
  },
  {
   "cell_type": "markdown",
   "metadata": {},
   "source": [
    "## 4. Visualization of T-Test Results"
   ]
  },
  {
   "cell_type": "code",
   "execution_count": 396,
   "metadata": {},
   "outputs": [
    {
     "data": {
      "image/png": "[encoded data removed]",
      "text/plain": [
       "<Figure size 1600x600 with 2 Axes>"
      ]
     },
     "metadata": {},
     "output_type": "display_data"
    }
   ],
   "source": [
    "# Create comparison plots\n",
    "fig, axes = plt.subplots(1, 2, figsize=(16, 6))\n",
    "\n",
    "# Study hours comparison\n",
    "boxData1 = [lowStudyScores, highStudyScores]\n",
    "bp1 = axes[0].boxplot(boxData1, labels=['Low Study Hours', 'High Study Hours'],\n",
    "                       patch_artist=True, showmeans=True)\n",
    "for patch in bp1['boxes']:\n",
    "    patch.set_facecolor('lightblue')\n",
    "axes[0].set_ylabel('Exam Score', fontsize=12)\n",
    "axes[0].set_title('Exam Scores by Study Hours Group', fontsize=14, fontweight='bold')\n",
    "axes[0].grid(True, alpha=0.3, axis='y')\n",
    "\n",
    "# Mental health comparison\n",
    "boxData2 = [lowerMentalScores, higherMentalScores]\n",
    "bp2 = axes[1].boxplot(boxData2, labels=['Lower Mental Health', 'Higher Mental Health'],\n",
    "                       patch_artist=True, showmeans=True)\n",
    "for patch in bp2['boxes']:\n",
    "    patch.set_facecolor('lightcoral')\n",
    "axes[1].set_ylabel('Exam Score', fontsize=12)\n",
    "axes[1].set_title('Exam Scores by Mental Health Group', fontsize=14, fontweight='bold')\n",
    "axes[1].grid(True, alpha=0.3, axis='y')\n",
    "\n",
    "plt.tight_layout()\n",
    "plt.show()"
   ]
  },
  {
   "cell_type": "markdown",
   "metadata": {},
   "source": [
    "## 5. One-Way ANOVA (3+ Groups)\n",
    "\n",
    "### 5.1 Study Hours Groups: One-Way ANOVA\n",
    "\n",
    "**Hypotheses:**\n",
    "- H₀: Mean exam scores are equal across all study hour groups (Low, Medium, High)\n",
    "- H₁: At least one group mean differs from the others"
   ]
  },
  {
   "cell_type": "code",
   "execution_count": 397,
   "metadata": {},
   "outputs": [
    {
     "name": "stdout",
     "output_type": "stream",
     "text": [
      "Descriptive Statistics by Study Hours Group (3 levels):\n",
      "Low (n=314):\n",
      "Mean: 53.45, SD: 12.40\n",
      "Medium (n=347):\n",
      "Mean: 69.64, SD: 10.15\n",
      "High (n=339):\n",
      "Mean: 84.52, SD: 11.38\n"
     ]
    }
   ],
   "source": [
    "# Separate groups\n",
    "lowStudy = df[df['studyGroup3'] == 'Low']['exam_score']\n",
    "medStudy = df[df['studyGroup3'] == 'Medium']['exam_score']\n",
    "highStudy = df[df['studyGroup3'] == 'High']['exam_score']\n",
    "\n",
    "# Descriptive statistics\n",
    "print(\"Descriptive Statistics by Study Hours Group (3 levels):\")\n",
    "print(f\"Low (n={len(lowStudy)}):\")\n",
    "print(f\"Mean: {lowStudy.mean():.2f}, SD: {lowStudy.std():.2f}\")\n",
    "print(f\"Medium (n={len(medStudy)}):\")\n",
    "print(f\"Mean: {medStudy.mean():.2f}, SD: {medStudy.std():.2f}\")\n",
    "print(f\"High (n={len(highStudy)}):\")\n",
    "print(f\"Mean: {highStudy.mean():.2f}, SD: {highStudy.std():.2f}\")"
   ]
  },
  {
   "cell_type": "code",
   "execution_count": 398,
   "metadata": {},
   "outputs": [
    {
     "name": "stdout",
     "output_type": "stream",
     "text": [
      "1. Normality (Shapiro-Wilk):\n",
      "Low: p = 0.6678\n",
      "Medium: p = 0.7494\n",
      "High: p = 0.0000\n",
      "2. Homogeneity of Variance (Levene's test):\n",
      "p = 0.0003 (Unequal variances)\n"
     ]
    }
   ],
   "source": [
    "# Check assumptions for ANOVA\n",
    "\n",
    "# 1. Normality\n",
    "_, pLow = shapiro(lowStudy)\n",
    "_, pMed = shapiro(medStudy)\n",
    "_, pHigh = shapiro(highStudy)\n",
    "print(\"1. Normality (Shapiro-Wilk):\")\n",
    "print(f\"Low: p = {pLow:.4f}\")\n",
    "print(f\"Medium: p = {pMed:.4f}\")\n",
    "print(f\"High: p = {pHigh:.4f}\")\n",
    "\n",
    "# 2. Homogeneity of variance\n",
    "statLevene, pLevene = levene(lowStudy, medStudy, highStudy)\n",
    "print(f\"2. Homogeneity of Variance (Levene's test):\")\n",
    "print(f\"p = {pLevene:.4f} {'(Equal variances)' if pLevene > 0.05 else '(Unequal variances)'}\")"
   ]
  },
  {
   "cell_type": "code",
   "execution_count": 399,
   "metadata": {},
   "outputs": [
    {
     "name": "stdout",
     "output_type": "stream",
     "text": [
      "One-Way ANOVA Results:\n",
      "F-statistic: 614.6671\n",
      "p-value: 1.1905e-174\n",
      "Significance: Significant at α = 0.05\n",
      "Effect Size (η²): 0.5522\n",
      "Interpretation: Large effect\n"
     ]
    }
   ],
   "source": [
    "# Perform ANOVA\n",
    "fStat, pValue = f_oneway(lowStudy, medStudy, highStudy)\n",
    "\n",
    "print(\"One-Way ANOVA Results:\")\n",
    "print(f\"F-statistic: {fStat:.4f}\")\n",
    "print(f\"p-value: {pValue:.4e}\")\n",
    "print(f\"Significance: {'Significant' if pValue < 0.05 else 'Not Significant'} at α = 0.05\")\n",
    "\n",
    "# Calculate eta-squared (effect size)\n",
    "allScores = pd.concat([lowStudy, medStudy, highStudy])\n",
    "ssTotal = np.sum((allScores - allScores.mean())**2)\n",
    "ssBetween = (len(lowStudy) * (lowStudy.mean() - allScores.mean())**2 + \n",
    "             len(medStudy) * (medStudy.mean() - allScores.mean())**2 + \n",
    "             len(highStudy) * (highStudy.mean() - allScores.mean())**2)\n",
    "etaSquared = ssBetween / ssTotal\n",
    "\n",
    "print(f\"Effect Size (η²): {etaSquared:.4f}\")\n",
    "if etaSquared < 0.01:\n",
    "    effect = \"negligible\"\n",
    "elif etaSquared < 0.06:\n",
    "    effect = \"small\"\n",
    "elif etaSquared < 0.14:\n",
    "    effect = \"medium\"\n",
    "else:\n",
    "    effect = \"large\"\n",
    "print(f\"Interpretation: {effect.capitalize()} effect\")"
   ]
  },
  {
   "cell_type": "code",
   "execution_count": 400,
   "metadata": {},
   "outputs": [
    {
     "name": "stdout",
     "output_type": "stream",
     "text": [
      "Post-Hoc Analysis (Tukey HSD):\n",
      " Multiple Comparison of Means - Tukey HSD, FWER=0.05 \n",
      "=====================================================\n",
      "group1 group2 meandiff p-adj  lower    upper   reject\n",
      "-----------------------------------------------------\n",
      "  High    Low -31.0675   0.0 -33.1473 -28.9877   True\n",
      "  High Medium -14.8809   0.0 -16.9087  -12.853   True\n",
      "   Low Medium  16.1866   0.0  14.1184  18.2549   True\n",
      "-----------------------------------------------------\n",
      "Conclusion:\n",
      "Exam scores differ Significantly across study hour groups.\n",
      "See post-hoc results above for pairwise comparisons.\n"
     ]
    }
   ],
   "source": [
    "# If ANOVA is Significant)\n",
    "if pValue < 0.05:\n",
    "    print(\"Post-Hoc Analysis (Tukey HSD):\")\n",
    "    \n",
    "    # Prepare data for Tukey HSD\n",
    "    studyData = df[['exam_score', 'studyGroup3']].copy()\n",
    "    tukey = pairwise_tukeyhsd(endog=studyData['exam_score'], \n",
    "                               groups=studyData['studyGroup3'], \n",
    "                               alpha=0.05)\n",
    "    \n",
    "    print(tukey)\n",
    "    \n",
    "    print(\"Conclusion:\")\n",
    "    print(\"Exam scores differ Significantly across study hour groups.\")\n",
    "    print(\"See post-hoc results above for pairwise comparisons.\")\n",
    "else:\n",
    "    print(\"Conclusion:\")\n",
    "    print(\"No Significant differences in exam scores across study hour groups.\")"
   ]
  },
  {
   "cell_type": "markdown",
   "metadata": {},
   "source": [
    "### 5.2 Mental Health Groups: One-Way ANOVA\n",
    "\n",
    "**Hypotheses:**\n",
    "- H₀: Mean exam scores are equal across all mental health groups (Low, Medium, High)\n",
    "- H₁: At least one group mean differs from the others"
   ]
  },
  {
   "cell_type": "code",
   "execution_count": 401,
   "metadata": {},
   "outputs": [
    {
     "name": "stdout",
     "output_type": "stream",
     "text": [
      "Descriptive Statistics by Mental Health Group (3 levels):\n",
      "Low (n=301):\n",
      "Mean: 63.43, SD: 15.94\n",
      "Medium (n=317):\n",
      "Mean: 67.87, SD: 16.85\n",
      "High (n=382):\n",
      "Mean: 75.90, SD: 15.49\n"
     ]
    }
   ],
   "source": [
    "# Separate groups\n",
    "lowMental = df[df['mentalGroup3'] == 'Low']['exam_score']\n",
    "medMental = df[df['mentalGroup3'] == 'Medium']['exam_score']\n",
    "highMental = df[df['mentalGroup3'] == 'High']['exam_score']\n",
    "\n",
    "# Descriptive statistics\n",
    "print(\"Descriptive Statistics by Mental Health Group (3 levels):\")\n",
    "print(f\"Low (n={len(lowMental)}):\")\n",
    "print(f\"Mean: {lowMental.mean():.2f}, SD: {lowMental.std():.2f}\")\n",
    "print(f\"Medium (n={len(medMental)}):\")\n",
    "print(f\"Mean: {medMental.mean():.2f}, SD: {medMental.std():.2f}\")\n",
    "print(f\"High (n={len(highMental)}):\")\n",
    "print(f\"Mean: {highMental.mean():.2f}, SD: {highMental.std():.2f}\")"
   ]
  },
  {
   "cell_type": "code",
   "execution_count": 402,
   "metadata": {},
   "outputs": [
    {
     "name": "stdout",
     "output_type": "stream",
     "text": [
      "Assumption Checks for ANOVA:\n",
      "Normality (Shapiro-Wilk):\n",
      "Low: p = 0.0848\n",
      "Medium: p = 0.0105\n",
      "High: p = 0.0000\n",
      "2. Homogeneity of Variance (Levene's test):\n",
      "p = 0.2683 (Equal variances)\n"
     ]
    }
   ],
   "source": [
    "# Check assumptions\n",
    "print(\"Assumption Checks for ANOVA:\")\n",
    "\n",
    "# 1. Normality\n",
    "_, pLow = shapiro(lowMental)\n",
    "_, pMed = shapiro(medMental)\n",
    "_, pHigh = shapiro(highMental)\n",
    "print(\"Normality (Shapiro-Wilk):\")\n",
    "print(f\"Low: p = {pLow:.4f}\")\n",
    "print(f\"Medium: p = {pMed:.4f}\")\n",
    "print(f\"High: p = {pHigh:.4f}\")\n",
    "\n",
    "# 2. Homogeneity of variance\n",
    "statLevene, pLevene = levene(lowMental, medMental, highMental)\n",
    "print(f\"2. Homogeneity of Variance (Levene's test):\")\n",
    "print(f\"p = {pLevene:.4f} {'(Equal variances)' if pLevene > 0.05 else '(Unequal variances)'}\")"
   ]
  },
  {
   "cell_type": "code",
   "execution_count": 403,
   "metadata": {},
   "outputs": [
    {
     "name": "stdout",
     "output_type": "stream",
     "text": [
      "One-Way ANOVA Results:\n",
      "F-statistic: 53.4275\n",
      "p-value: 9.0758e-23\n",
      "Significance: Significant at α = 0.05\n",
      "\n",
      "Effect Size (η²): 0.0968\n",
      "  Interpretation: Medium effect\n"
     ]
    }
   ],
   "source": [
    "# Perform ANOVA\n",
    "fStat, pValue = f_oneway(lowMental, medMental, highMental)\n",
    "\n",
    "print(\"One-Way ANOVA Results:\")\n",
    "print(f\"F-statistic: {fStat:.4f}\")\n",
    "print(f\"p-value: {pValue:.4e}\")\n",
    "print(f\"Significance: {'Significant' if pValue < 0.05 else 'Not Significant'} at α = 0.05\")\n",
    "\n",
    "# Calculate eta-squared (effect size)\n",
    "allScores = pd.concat([lowMental, medMental, highMental])\n",
    "ssTotal = np.sum((allScores - allScores.mean())**2)\n",
    "ssBetween = (len(lowMental) * (lowMental.mean() - allScores.mean())**2 + \n",
    "             len(medMental) * (medMental.mean() - allScores.mean())**2 + \n",
    "             len(highMental) * (highMental.mean() - allScores.mean())**2)\n",
    "etaSquared = ssBetween / ssTotal\n",
    "\n",
    "print(f\"\\nEffect Size (η²): {etaSquared:.4f}\")\n",
    "if etaSquared < 0.01:\n",
    "    effect = \"negligible\"\n",
    "elif etaSquared < 0.06:\n",
    "    effect = \"small\"\n",
    "elif etaSquared < 0.14:\n",
    "    effect = \"medium\"\n",
    "else:\n",
    "    effect = \"large\"\n",
    "print(f\"  Interpretation: {effect.capitalize()} effect\")"
   ]
  },
  {
   "cell_type": "code",
   "execution_count": 404,
   "metadata": {},
   "outputs": [
    {
     "name": "stdout",
     "output_type": "stream",
     "text": [
      "\n",
      "Post-Hoc Analysis (Tukey HSD):\n",
      " Multiple Comparison of Means - Tukey HSD, FWER=0.05 \n",
      "=====================================================\n",
      "group1 group2 meandiff p-adj   lower    upper  reject\n",
      "-----------------------------------------------------\n",
      "  High    Low -12.4716    0.0 -15.3781 -9.5651   True\n",
      "  High Medium  -8.0369    0.0 -10.9021 -5.1717   True\n",
      "   Low Medium   4.4347 0.0018   1.3997  7.4696   True\n",
      "-----------------------------------------------------\n",
      "Conclusion:\n",
      "Exam scores differ Significantly across mental health groups.\n",
      "See post-hoc results above for pairwise comparisons.\n"
     ]
    }
   ],
   "source": [
    "# Post-hoc test (if ANOVA is Significant)\n",
    "if pValue < 0.05:\n",
    "    print(\"\\nPost-Hoc Analysis (Tukey HSD):\")\n",
    "    \n",
    "    # Prepare data for Tukey HSD\n",
    "    mentalData = df[['exam_score', 'mentalGroup3']].copy()\n",
    "    tukey = pairwise_tukeyhsd(endog=mentalData['exam_score'], \n",
    "                               groups=mentalData['mentalGroup3'], \n",
    "                               alpha=0.05)\n",
    "    \n",
    "    print(tukey)\n",
    "    \n",
    "    print(\"Conclusion:\")\n",
    "    print(\"Exam scores differ Significantly across mental health groups.\")\n",
    "    print(\"See post-hoc results above for pairwise comparisons.\")\n",
    "else:\n",
    "    print(\"Conclusion:\")\n",
    "    print(\"No Significant differences in exam scores across mental health groups.\")"
   ]
  },
  {
   "cell_type": "markdown",
   "metadata": {},
   "source": [
    "### 5.3 Exercise Frequency Groups: One-Way ANOVA\n",
    "\n",
    "**Hypotheses:**\n",
    "- H₀: Mean exam scores are equal across all exercise frequency groups (Low, Medium, High)\n",
    "- H₁: At least one group mean differs from the others"
   ]
  },
  {
   "cell_type": "code",
   "execution_count": 405,
   "metadata": {},
   "outputs": [
    {
     "name": "stdout",
     "output_type": "stream",
     "text": [
      "Descriptive Statistics by Exercise Frequency Group (3 levels):\n",
      "Low (n=290):\n",
      "Mean: 66.09, SD: 16.97\n",
      "Medium (n=275):\n",
      "Mean: 69.30, SD: 15.91\n",
      "High (n=435):\n",
      "Mean: 72.13, SD: 17.04\n"
     ]
    }
   ],
   "source": [
    "# Separate groups\n",
    "lowExercise = df[df['exerciseGroup3'] == 'Low']['exam_score']\n",
    "medExercise = df[df['exerciseGroup3'] == 'Medium']['exam_score']\n",
    "highExercise = df[df['exerciseGroup3'] == 'High']['exam_score']\n",
    "\n",
    "# Descriptive statistics\n",
    "print(\"Descriptive Statistics by Exercise Frequency Group (3 levels):\")\n",
    "print(f\"Low (n={len(lowExercise)}):\")\n",
    "print(f\"Mean: {lowExercise.mean():.2f}, SD: {lowExercise.std():.2f}\")\n",
    "print(f\"Medium (n={len(medExercise)}):\")\n",
    "print(f\"Mean: {medExercise.mean():.2f}, SD: {medExercise.std():.2f}\")\n",
    "print(f\"High (n={len(highExercise)}):\")\n",
    "print(f\"Mean: {highExercise.mean():.2f}, SD: {highExercise.std():.2f}\")"
   ]
  },
  {
   "cell_type": "code",
   "execution_count": 406,
   "metadata": {},
   "outputs": [
    {
     "name": "stdout",
     "output_type": "stream",
     "text": [
      "Assumption Checks for ANOVA:\n",
      "Normality (Shapiro-Wilk):\n",
      "Low: p = 0.0264\n",
      "Medium: p = 0.0301\n",
      "High: p = 0.0000\n",
      "2. Homogeneity of Variance (Levene's test):\n",
      "p = 0.2589 (Equal variances)\n"
     ]
    }
   ],
   "source": [
    "# Check assumptions\n",
    "print(\"Assumption Checks for ANOVA:\")\n",
    "\n",
    "# 1. Normality\n",
    "_, pLow = shapiro(lowExercise)\n",
    "_, pMed = shapiro(medExercise)\n",
    "_, pHigh = shapiro(highExercise)\n",
    "print(\"Normality (Shapiro-Wilk):\")\n",
    "print(f\"Low: p = {pLow:.4f}\")\n",
    "print(f\"Medium: p = {pMed:.4f}\")\n",
    "print(f\"High: p = {pHigh:.4f}\")\n",
    "\n",
    "# 2. Homogeneity of variance\n",
    "statLevene, pLevene = levene(lowExercise, medExercise, highExercise)\n",
    "print(f\"2. Homogeneity of Variance (Levene's test):\")\n",
    "print(f\"p = {pLevene:.4f} {'(Equal variances)' if pLevene > 0.05 else '(Unequal variances)'}\")"
   ]
  },
  {
   "cell_type": "code",
   "execution_count": 407,
   "metadata": {},
   "outputs": [
    {
     "name": "stdout",
     "output_type": "stream",
     "text": [
      "One-Way ANOVA Results:\n",
      "F-statistic: 11.4395\n",
      "p-value: 1.2248e-05\n",
      "Significance: Significant at α = 0.05\n",
      "Effect Size (η²): 0.0224\n",
      "Interpretation: Small effect\n"
     ]
    }
   ],
   "source": [
    "# Perform ANOVA\n",
    "fStat, pValue = f_oneway(lowExercise, medExercise, highExercise)\n",
    "\n",
    "print(\"One-Way ANOVA Results:\")\n",
    "print(f\"F-statistic: {fStat:.4f}\")\n",
    "print(f\"p-value: {pValue:.4e}\")\n",
    "print(f\"Significance: {'Significant' if pValue < 0.05 else 'Not Significant'} at α = 0.05\")\n",
    "\n",
    "# Calculate eta-squared (effect size)\n",
    "allScores = pd.concat([lowExercise, medExercise, highExercise])\n",
    "ssTotal = np.sum((allScores - allScores.mean())**2)\n",
    "ssBetween = (len(lowExercise) * (lowExercise.mean() - allScores.mean())**2 + \n",
    "             len(medExercise) * (medExercise.mean() - allScores.mean())**2 + \n",
    "             len(highExercise) * (highExercise.mean() - allScores.mean())**2)\n",
    "etaSquared = ssBetween / ssTotal\n",
    "\n",
    "print(f\"Effect Size (η²): {etaSquared:.4f}\")\n",
    "if etaSquared < 0.01:\n",
    "    effect = \"negligible\"\n",
    "elif etaSquared < 0.06:\n",
    "    effect = \"small\"\n",
    "elif etaSquared < 0.14:\n",
    "    effect = \"medium\"\n",
    "else:\n",
    "    effect = \"large\"\n",
    "print(f\"Interpretation: {effect.capitalize()} effect\")"
   ]
  },
  {
   "cell_type": "code",
   "execution_count": 408,
   "metadata": {},
   "outputs": [
    {
     "name": "stdout",
     "output_type": "stream",
     "text": [
      "Post-Hoc Analysis (Tukey HSD):\n",
      "Multiple Comparison of Means - Tukey HSD, FWER=0.05 \n",
      "====================================================\n",
      "group1 group2 meandiff p-adj   lower   upper  reject\n",
      "----------------------------------------------------\n",
      "  High    Low  -6.0448    0.0 -9.0191 -3.0706   True\n",
      "  High Medium  -2.8313 0.0719 -5.8538  0.1913  False\n",
      "   Low Medium   3.2135 0.0585 -0.0887  6.5158  False\n",
      "----------------------------------------------------\n",
      "Conclusion:\n",
      "Exam scores differ Significantly across exercise frequency groups.\n"
     ]
    }
   ],
   "source": [
    "# Post-hoc test (if ANOVA is Significant)\n",
    "if pValue < 0.05:\n",
    "    print(\"Post-Hoc Analysis (Tukey HSD):\")\n",
    "    \n",
    "    # Prepare data for Tukey HSD\n",
    "    exerciseData = df[['exam_score', 'exerciseGroup3']].copy()\n",
    "    tukey = pairwise_tukeyhsd(endog=exerciseData['exam_score'], \n",
    "                               groups=exerciseData['exerciseGroup3'], \n",
    "                               alpha=0.05)\n",
    "    \n",
    "    print(tukey)\n",
    "    \n",
    "    print(\"Conclusion:\")\n",
    "    print(\"Exam scores differ Significantly across exercise frequency groups.\")\n",
    "else:\n",
    "    print(\"Conclusion:\")\n",
    "    print(\"No Significant differences in exam scores across exercise frequency groups.\")"
   ]
  },
  {
   "cell_type": "markdown",
   "metadata": {},
   "source": [
    "### 5.4 Netflix Hours Groups: One-Way ANOVA\n",
    "\n",
    "**Hypotheses:**\n",
    "- H₀: Mean exam scores are equal across all netflix hours groups (Low, Medium, High)\n",
    "- H₁: At least one group mean differs from the others"
   ]
  },
  {
   "cell_type": "code",
   "execution_count": 409,
   "metadata": {},
   "outputs": [
    {
     "name": "stdout",
     "output_type": "stream",
     "text": [
      "Descriptive Statistics by Netflix Hours Group (3 levels):\n",
      "Low (n=319):\n",
      "Mean: 73.14, SD: 15.93\n",
      "Medium (n=339):\n",
      "Mean: 69.40, SD: 16.61\n",
      "High (n=342):\n",
      "Mean: 66.51, SD: 17.45\n"
     ]
    }
   ],
   "source": [
    "# Separate groups\n",
    "lowNetflix = df[df['netflixGroup3'] == 'Low']['exam_score']\n",
    "medNetflix = df[df['netflixGroup3'] == 'Medium']['exam_score']\n",
    "highNetflix = df[df['netflixGroup3'] == 'High']['exam_score']\n",
    "\n",
    "# Descriptive statistics\n",
    "print(\"Descriptive Statistics by Netflix Hours Group (3 levels):\")\n",
    "print(f\"Low (n={len(lowNetflix)}):\")\n",
    "print(f\"Mean: {lowNetflix.mean():.2f}, SD: {lowNetflix.std():.2f}\")\n",
    "print(f\"Medium (n={len(medNetflix)}):\")\n",
    "print(f\"Mean: {medNetflix.mean():.2f}, SD: {medNetflix.std():.2f}\")\n",
    "print(f\"High (n={len(highNetflix)}):\")\n",
    "print(f\"Mean: {highNetflix.mean():.2f}, SD: {highNetflix.std():.2f}\")"
   ]
  },
  {
   "cell_type": "code",
   "execution_count": 410,
   "metadata": {},
   "outputs": [
    {
     "name": "stdout",
     "output_type": "stream",
     "text": [
      "Assumption Checks for ANOVA:\n",
      "Normality (Shapiro-Wilk):\n",
      "Low: p = 0.0002\n",
      "Medium: p = 0.0008\n",
      "High: p = 0.0149\n",
      "2. Homogeneity of Variance (Levene's test):\n",
      "p = 0.1869 (Equal variances)\n"
     ]
    }
   ],
   "source": [
    "# Check assumptions\n",
    "print(\"Assumption Checks for ANOVA:\")\n",
    "\n",
    "# 1. Normality\n",
    "_, pLow = shapiro(lowNetflix)\n",
    "_, pMed = shapiro(medNetflix)\n",
    "_, pHigh = shapiro(highNetflix)\n",
    "print(\"Normality (Shapiro-Wilk):\")\n",
    "print(f\"Low: p = {pLow:.4f}\")\n",
    "print(f\"Medium: p = {pMed:.4f}\")\n",
    "print(f\"High: p = {pHigh:.4f}\")\n",
    "\n",
    "# 2. Homogeneity of variance\n",
    "statLevene, pLevene = levene(lowNetflix, medNetflix, highNetflix)\n",
    "print(f\"2. Homogeneity of Variance (Levene's test):\")\n",
    "print(f\"p = {pLevene:.4f} {'(Equal variances)' if pLevene > 0.05 else '(Unequal variances)'}\")"
   ]
  },
  {
   "cell_type": "code",
   "execution_count": 411,
   "metadata": {},
   "outputs": [
    {
     "name": "stdout",
     "output_type": "stream",
     "text": [
      "One-Way ANOVA Results:\n",
      "F-statistic: 13.0730\n",
      "p-value: 2.4867e-06\n",
      "Significance: Significant at α = 0.05\n",
      "Effect Size (η²): 0.0256\n",
      "Interpretation: Small effect\n"
     ]
    }
   ],
   "source": [
    "# Perform ANOVA\n",
    "fStat, pValue = f_oneway(lowNetflix, medNetflix, highNetflix)\n",
    "\n",
    "print(\"One-Way ANOVA Results:\")\n",
    "print(f\"F-statistic: {fStat:.4f}\")\n",
    "print(f\"p-value: {pValue:.4e}\")\n",
    "print(f\"Significance: {'Significant' if pValue < 0.05 else 'Not Significant'} at α = 0.05\")\n",
    "\n",
    "# Calculate eta-squared (effect size)\n",
    "allScores = pd.concat([lowNetflix, medNetflix, highNetflix])\n",
    "ssTotal = np.sum((allScores - allScores.mean())**2)\n",
    "ssBetween = (len(lowNetflix) * (lowNetflix.mean() - allScores.mean())**2 + \n",
    "             len(medNetflix) * (medNetflix.mean() - allScores.mean())**2 + \n",
    "             len(highNetflix) * (highNetflix.mean() - allScores.mean())**2)\n",
    "etaSquared = ssBetween / ssTotal\n",
    "\n",
    "print(f\"Effect Size (η²): {etaSquared:.4f}\")\n",
    "if etaSquared < 0.01:\n",
    "    effect = \"negligible\"\n",
    "elif etaSquared < 0.06:\n",
    "    effect = \"small\"\n",
    "elif etaSquared < 0.14:\n",
    "    effect = \"medium\"\n",
    "else:\n",
    "    effect = \"large\"\n",
    "print(f\"Interpretation: {effect.capitalize()} effect\")"
   ]
  },
  {
   "cell_type": "code",
   "execution_count": 412,
   "metadata": {},
   "outputs": [
    {
     "name": "stdout",
     "output_type": "stream",
     "text": [
      "\n",
      "Post-Hoc Analysis (Tukey HSD):\n",
      "Multiple Comparison of Means - Tukey HSD, FWER=0.05 \n",
      "====================================================\n",
      "group1 group2 meandiff p-adj   lower   upper  reject\n",
      "----------------------------------------------------\n",
      "  High    Low   6.6321    0.0  3.5832  9.6811   True\n",
      "  High Medium   2.8891 0.0622 -0.1129  5.8912  False\n",
      "   Low Medium   -3.743 0.0115 -6.7984 -0.6875   True\n",
      "----------------------------------------------------\n",
      "Conclusion:\n",
      "Exam scores differ Significantly across netflix hours groups.\n"
     ]
    }
   ],
   "source": [
    "# Post-hoc test (if ANOVA is Significant)\n",
    "if pValue < 0.05:\n",
    "    print(\"\\nPost-Hoc Analysis (Tukey HSD):\")\n",
    "    \n",
    "    # Prepare data for Tukey HSD\n",
    "    netflixData = df[['exam_score', 'netflixGroup3']].copy()\n",
    "    tukey = pairwise_tukeyhsd(endog=netflixData['exam_score'], \n",
    "                               groups=netflixData['netflixGroup3'], \n",
    "                               alpha=0.05)\n",
    "    \n",
    "    print(tukey)\n",
    "    \n",
    "    print(\"Conclusion:\")\n",
    "    print(\"Exam scores differ Significantly across netflix hours groups.\")\n",
    "else:\n",
    "    print(\"Conclusion:\")\n",
    "    print(\"No Significant differences in exam scores across netflix hours groups.\")"
   ]
  },
  {
   "cell_type": "markdown",
   "metadata": {},
   "source": [
    "### 5.5 Diet Quality Groups: One-Way ANOVA\n",
    "\n",
    "**Hypotheses:**\n",
    "- H₀: Mean exam scores are equal across all diet quality groups (Poor, Fair, Good)\n",
    "- H₁: At least one group mean differs from the others"
   ]
  },
  {
   "cell_type": "code",
   "execution_count": 413,
   "metadata": {},
   "outputs": [
    {
     "name": "stdout",
     "output_type": "stream",
     "text": [
      "Descriptive Statistics by Diet Quality Group:\n",
      "Poor (n=185):\n",
      "Mean: 68.13, SD: 17.06\n",
      "Fair (n=437):\n",
      "Mean: 70.43, SD: 16.65\n",
      "Good (n=378):\n",
      "Mean: 69.37, SD: 17.07\n"
     ]
    }
   ],
   "source": [
    "# Separate groups (diet_quality is already categorical)\n",
    "poorDiet = df[df['diet_quality'] == 'Poor']['exam_score']\n",
    "fairDiet = df[df['diet_quality'] == 'Fair']['exam_score']\n",
    "goodDiet = df[df['diet_quality'] == 'Good']['exam_score']\n",
    "\n",
    "# Descriptive statistics\n",
    "print(\"Descriptive Statistics by Diet Quality Group:\")\n",
    "print(f\"Poor (n={len(poorDiet)}):\")\n",
    "print(f\"Mean: {poorDiet.mean():.2f}, SD: {poorDiet.std():.2f}\")\n",
    "print(f\"Fair (n={len(fairDiet)}):\")\n",
    "print(f\"Mean: {fairDiet.mean():.2f}, SD: {fairDiet.std():.2f}\")\n",
    "print(f\"Good (n={len(goodDiet)}):\")\n",
    "print(f\"Mean: {goodDiet.mean():.2f}, SD: {goodDiet.std():.2f}\")"
   ]
  },
  {
   "cell_type": "code",
   "execution_count": 414,
   "metadata": {},
   "outputs": [
    {
     "name": "stdout",
     "output_type": "stream",
     "text": [
      "Assumption Checks for ANOVA:\n",
      "Normality (Shapiro-Wilk):\n",
      "Poor: p = 0.0332\n",
      "Fair: p = 0.0002\n",
      "Good: p = 0.0012\n",
      "\n",
      "2. Homogeneity of Variance (Levene's test):\n",
      "p = 0.8866 (Equal variances)\n"
     ]
    }
   ],
   "source": [
    "# Check assumptions\n",
    "print(\"Assumption Checks for ANOVA:\")\n",
    "\n",
    "# 1. Normality\n",
    "_, pPoor = shapiro(poorDiet)\n",
    "_, pFair = shapiro(fairDiet)\n",
    "_, pGood = shapiro(goodDiet)\n",
    "print(\"Normality (Shapiro-Wilk):\")\n",
    "print(f\"Poor: p = {pPoor:.4f}\")\n",
    "print(f\"Fair: p = {pFair:.4f}\")\n",
    "print(f\"Good: p = {pGood:.4f}\\n\")\n",
    "\n",
    "# 2. Homogeneity of variance\n",
    "statLevene, pLevene = levene(poorDiet, fairDiet, goodDiet)\n",
    "print(f\"2. Homogeneity of Variance (Levene's test):\")\n",
    "print(f\"p = {pLevene:.4f} {'(Equal variances)' if pLevene > 0.05 else '(Unequal variances})'}\")"
   ]
  },
  {
   "cell_type": "code",
   "execution_count": 415,
   "metadata": {},
   "outputs": [
    {
     "name": "stdout",
     "output_type": "stream",
     "text": [
      "One-Way ANOVA Results:\n",
      "  F-statistic: 1.2662\n",
      "  p-value: 2.8235e-01\n",
      "  Significance: Not Significant at α = 0.05\n",
      "\n",
      "Effect Size (η²): 0.0025\n",
      "Interpretation: Negligible effect\n"
     ]
    }
   ],
   "source": [
    "# Perform ANOVA\n",
    "fStat, pValue = f_oneway(poorDiet, fairDiet, goodDiet)\n",
    "\n",
    "print(\"One-Way ANOVA Results:\")\n",
    "print(f\"  F-statistic: {fStat:.4f}\")\n",
    "print(f\"  p-value: {pValue:.4e}\")\n",
    "print(f\"  Significance: {'Significant' if pValue < 0.05 else 'Not Significant'} at α = 0.05\\n\")\n",
    "\n",
    "# Calculate eta-squared (effect size)\n",
    "allScores = pd.concat([poorDiet, fairDiet, goodDiet])\n",
    "ssTotal = np.sum((allScores - allScores.mean())**2)\n",
    "ssBetween = (len(poorDiet) * (poorDiet.mean() - allScores.mean())**2 + \n",
    "             len(fairDiet) * (fairDiet.mean() - allScores.mean())**2 + \n",
    "             len(goodDiet) * (goodDiet.mean() - allScores.mean())**2)\n",
    "etaSquared = ssBetween / ssTotal\n",
    "\n",
    "print(f\"Effect Size (η²): {etaSquared:.4f}\")\n",
    "if etaSquared < 0.01:\n",
    "    effect = \"negligible\"\n",
    "elif etaSquared < 0.06:\n",
    "    effect = \"small\"\n",
    "elif etaSquared < 0.14:\n",
    "    effect = \"medium\"\n",
    "else:\n",
    "    effect = \"large\"\n",
    "print(f\"Interpretation: {effect.capitalize()} effect\")"
   ]
  },
  {
   "cell_type": "code",
   "execution_count": 416,
   "metadata": {},
   "outputs": [
    {
     "name": "stdout",
     "output_type": "stream",
     "text": [
      "Conclusion:\n",
      "No Significant differences in exam scores across diet quality groups.\n"
     ]
    }
   ],
   "source": [
    "# Post-hoc test (if ANOVA is Significant)\n",
    "if pValue < 0.05:\n",
    "    print(\"Post-Hoc Analysis (Tukey HSD):\")\n",
    "    \n",
    "    # Prepare data for Tukey HSD\n",
    "    dietData = df[['exam_score', 'diet_quality']].copy()\n",
    "    tukey = pairwise_tukeyhsd(endog=dietData['exam_score'], \n",
    "                               groups=dietData['diet_quality'], \n",
    "                               alpha=0.05)\n",
    "    \n",
    "    print(tukey)\n",
    "    \n",
    "    print(\"Conclusion:\")\n",
    "    print(\"Exam scores differ Significantly across diet quality groups.\")\n",
    "else:\n",
    "    print(\"Conclusion:\")\n",
    "    print(\"No Significant differences in exam scores across diet quality groups.\")"
   ]
  },
  {
   "cell_type": "markdown",
   "metadata": {},
   "source": [
    "### 5.6 Visualization of ANOVA Results"
   ]
  },
  {
   "cell_type": "code",
   "execution_count": 417,
   "metadata": {},
   "outputs": [
    {
     "data": {
      "image/png": "[encoded data removed]",
      "text/plain": [
       "<Figure size 1800x1000 with 5 Axes>"
      ]
     },
     "metadata": {},
     "output_type": "display_data"
    }
   ],
   "source": [
    "# Create comparison plots for all ANOVA analyses\n",
    "fig, axes = plt.subplots(2, 3, figsize=(18, 10))\n",
    "\n",
    "colors = ['lightblue', 'lightgreen', 'lightcoral']\n",
    "\n",
    "# Study hours ANOVA visualization\n",
    "boxData1 = [lowStudy, medStudy, highStudy]\n",
    "bp1 = axes[0, 0].boxplot(boxData1, labels=['Low', 'Medium', 'High'],\n",
    "                       patch_artist=True, showmeans=True)\n",
    "for patch, color in zip(bp1['boxes'], colors):\n",
    "    patch.set_facecolor(color)\n",
    "axes[0, 0].set_xlabel('Study Hours Group', fontsize=11)\n",
    "axes[0, 0].set_ylabel('Exam Score', fontsize=11)\n",
    "axes[0, 0].set_title('Exam Scores by Study Hours (3 Groups)', fontsize=12, fontweight='bold')\n",
    "axes[0, 0].grid(True, alpha=0.3, axis='y')\n",
    "\n",
    "# Mental health ANOVA visualization\n",
    "boxData2 = [lowMental, medMental, highMental]\n",
    "bp2 = axes[0, 1].boxplot(boxData2, labels=['Low', 'Medium', 'High'],\n",
    "                       patch_artist=True, showmeans=True)\n",
    "for patch, color in zip(bp2['boxes'], colors):\n",
    "    patch.set_facecolor(color)\n",
    "axes[0, 1].set_xlabel('Mental Health Group', fontsize=11)\n",
    "axes[0, 1].set_ylabel('Exam Score', fontsize=11)\n",
    "axes[0, 1].set_title('Exam Scores by Mental Health (3 Groups)', fontsize=12, fontweight='bold')\n",
    "axes[0, 1].grid(True, alpha=0.3, axis='y')\n",
    "\n",
    "# Exercise frequency ANOVA visualization\n",
    "boxData3 = [lowExercise, medExercise, highExercise]\n",
    "bp3 = axes[0, 2].boxplot(boxData3, labels=['Low', 'Medium', 'High'],\n",
    "                       patch_artist=True, showmeans=True)\n",
    "for patch, color in zip(bp3['boxes'], colors):\n",
    "    patch.set_facecolor(color)\n",
    "axes[0, 2].set_xlabel('Exercise Frequency Group', fontsize=11)\n",
    "axes[0, 2].set_ylabel('Exam Score', fontsize=11)\n",
    "axes[0, 2].set_title('Exam Scores by Exercise Frequency (3 Groups)', fontsize=12, fontweight='bold')\n",
    "axes[0, 2].grid(True, alpha=0.3, axis='y')\n",
    "\n",
    "# Netflix hours ANOVA visualization\n",
    "boxData4 = [lowNetflix, medNetflix, highNetflix]\n",
    "bp4 = axes[1, 0].boxplot(boxData4, labels=['Low', 'Medium', 'High'],\n",
    "                       patch_artist=True, showmeans=True)\n",
    "for patch, color in zip(bp4['boxes'], colors):\n",
    "    patch.set_facecolor(color)\n",
    "axes[1, 0].set_xlabel('Netflix Hours Group', fontsize=11)\n",
    "axes[1, 0].set_ylabel('Exam Score', fontsize=11)\n",
    "axes[1, 0].set_title('Exam Scores by Netflix Hours (3 Groups)', fontsize=12, fontweight='bold')\n",
    "axes[1, 0].grid(True, alpha=0.3, axis='y')\n",
    "\n",
    "# Diet quality ANOVA visualization\n",
    "boxData5 = [poorDiet, fairDiet, goodDiet]\n",
    "bp5 = axes[1, 1].boxplot(boxData5, labels=['Poor', 'Fair', 'Good'],\n",
    "                       patch_artist=True, showmeans=True)\n",
    "for patch, color in zip(bp5['boxes'], colors):\n",
    "    patch.set_facecolor(color)\n",
    "axes[1, 1].set_xlabel('Diet Quality Group', fontsize=11)\n",
    "axes[1, 1].set_ylabel('Exam Score', fontsize=11)\n",
    "axes[1, 1].set_title('Exam Scores by Diet Quality (3 Groups)', fontsize=12, fontweight='bold')\n",
    "axes[1, 1].grid(True, alpha=0.3, axis='y')\n",
    "\n",
    "# Remove the extra subplot\n",
    "fig.delaxes(axes[1, 2])\n",
    "\n",
    "plt.tight_layout()\n",
    "plt.show()"
   ]
  },
  {
   "cell_type": "markdown",
   "metadata": {},
   "source": [
    "## 5.7 Chi-Squared Tests for Categorical Associations\n",
    "\n",
    "Examining relationships between exam performance categories and categorical variables."
   ]
  },
  {
   "cell_type": "code",
   "execution_count": 430,
   "metadata": {},
   "outputs": [
    {
     "name": "stdout",
     "output_type": "stream",
     "text": [
      "Exam Performance Category Distribution:\n",
      "examPerformance\n",
      "High      330\n",
      "Low       329\n",
      "Medium    341\n",
      "Name: count, dtype: int64\n",
      "\n",
      "Cutoff scores:\n",
      "Low: < 62.70\n",
      "Medium: 62.70 - 77.03\n",
      "High: > 77.03\n"
     ]
    }
   ],
   "source": [
    "# Create exam performance categories (tertiles to match ANOVA grouping)\n",
    "examQ1 = df['exam_score'].quantile(0.33)\n",
    "examQ2 = df['exam_score'].quantile(0.67)\n",
    "df['examPerformance'] = df['exam_score'].apply(\n",
    "    lambda x: 'Low' if x < examQ1 else ('Medium' if x < examQ2 else 'High')\n",
    ")\n",
    "\n",
    "print(\"Exam Performance Category Distribution:\")\n",
    "print(df['examPerformance'].value_counts().sort_index())\n",
    "print(f\"\\nCutoff scores:\")\n",
    "print(f\"Low: < {examQ1:.2f}\")\n",
    "print(f\"Medium: {examQ1:.2f} - {examQ2:.2f}\")\n",
    "print(f\"High: > {examQ2:.2f}\")"
   ]
  },
  {
   "cell_type": "markdown",
   "metadata": {},
   "source": [
    "### 5.7.1 Exam Performance × Parental Education Level\n",
    "\n",
    "**Hypotheses:**\n",
    "- H₀: Exam performance is independent of parental education level\n",
    "- H₁: Exam performance is associated with parental education level"
   ]
  },
  {
   "cell_type": "code",
   "execution_count": 419,
   "metadata": {},
   "outputs": [
    {
     "name": "stdout",
     "output_type": "stream",
     "text": [
      "Contingency Table: Exam Performance × Parental Education Level\n",
      "parental_education_level  Bachelor  High School  Master  None\n",
      "examPerformance                                              \n",
      "High                           120          134      47    29\n",
      "Low                            106          134      60    29\n",
      "Medium                         124          124      60    33\n",
      "\n",
      "Total observations: 1000\n"
     ]
    }
   ],
   "source": [
    "# Create contingency table\n",
    "contingencyTable1 = pd.crosstab(df['examPerformance'], df['parental_education_level'])\n",
    "\n",
    "print(\"Contingency Table: Exam Performance × Parental Education Level\")\n",
    "print(contingencyTable1)\n",
    "print(f\"\\nTotal observations: {contingencyTable1.sum().sum()}\")"
   ]
  },
  {
   "cell_type": "code",
   "execution_count": 420,
   "metadata": {},
   "outputs": [
    {
     "name": "stdout",
     "output_type": "stream",
     "text": [
      "Chi-Squared Test Results:\n",
      "Chi-squared statistic: 4.1585\n",
      "Degrees of freedom: 6\n",
      "p-value: 6.5524e-01\n",
      "Significance: Not Significant at α = 0.05\n",
      "\n",
      "Effect Size (Cramér's V): 0.0456\n",
      "Interpretation: Negligible effect\n"
     ]
    }
   ],
   "source": [
    "from scipy.stats import chi2_contingency\n",
    "\n",
    "# Perform Chi-squared test\n",
    "chi2Stat, pValue, dof, expectedFreq = chi2_contingency(contingencyTable1)\n",
    "\n",
    "print(\"Chi-Squared Test Results:\")\n",
    "print(f\"Chi-squared statistic: {chi2Stat:.4f}\")\n",
    "print(f\"Degrees of freedom: {dof}\")\n",
    "print(f\"p-value: {pValue:.4e}\")\n",
    "print(f\"Significance: {'Significant' if pValue < 0.05 else 'Not Significant'} at α = 0.05\")\n",
    "\n",
    "# Calculate Cramér's V (effect size)\n",
    "n = contingencyTable1.sum().sum()\n",
    "minDim = min(contingencyTable1.shape[0] - 1, contingencyTable1.shape[1] - 1)\n",
    "cramersV = np.sqrt(chi2Stat / (n * minDim))\n",
    "\n",
    "print(f\"\\nEffect Size (Cramér's V): {cramersV:.4f}\")\n",
    "if cramersV < 0.1:\n",
    "    effect = \"negligible\"\n",
    "elif cramersV < 0.3:\n",
    "    effect = \"small\"\n",
    "elif cramersV < 0.5:\n",
    "    effect = \"medium\"\n",
    "else:\n",
    "    effect = \"large\"\n",
    "print(f\"Interpretation: {effect.capitalize()} effect\")"
   ]
  },
  {
   "cell_type": "code",
   "execution_count": 421,
   "metadata": {},
   "outputs": [
    {
     "name": "stdout",
     "output_type": "stream",
     "text": [
      "\n",
      "Expected Frequencies:\n",
      "parental_education_level  Bachelor  High School  Master   None\n",
      "examPerformance                                               \n",
      "High                        115.50       129.36   55.11  30.03\n",
      "Low                         115.15       128.97   54.94  29.94\n",
      "Medium                      119.35       133.67   56.95  31.03\n",
      "\n",
      "Minimum expected frequency: 29.94\n",
      "Assumption satisfied: All expected frequencies ≥ 5\n"
     ]
    }
   ],
   "source": [
    "# Display expected frequencies\n",
    "print(\"\\nExpected Frequencies:\")\n",
    "expectedDf = pd.DataFrame(expectedFreq, \n",
    "                          index=contingencyTable1.index,\n",
    "                          columns=contingencyTable1.columns)\n",
    "print(expectedDf.round(2))\n",
    "\n",
    "# Check assumption: all expected frequencies >= 5\n",
    "minExpected = expectedFreq.min()\n",
    "print(f\"\\nMinimum expected frequency: {minExpected:.2f}\")\n",
    "if minExpected >= 5:\n",
    "    print(\"Assumption satisfied: All expected frequencies ≥ 5\")\n",
    "else:\n",
    "    print(\"Warning: Some expected frequencies < 5; results may be unreliable\")"
   ]
  },
  {
   "cell_type": "code",
   "execution_count": 422,
   "metadata": {},
   "outputs": [
    {
     "data": {
      "image/png": "[encoded data removed]",
      "text/plain": [
       "<Figure size 1600x600 with 2 Axes>"
      ]
     },
     "metadata": {},
     "output_type": "display_data"
    }
   ],
   "source": [
    "# Visualize with grouped bar chart\n",
    "fig, axes = plt.subplots(1, 2, figsize=(16, 6))\n",
    "\n",
    "# Grouped bar chart\n",
    "contingencyTable1.T.plot(kind='bar', ax=axes[0], color=['lightblue', 'lightgreen', 'lightcoral'])\n",
    "axes[0].set_xlabel('Parental Education Level', fontsize=12)\n",
    "axes[0].set_ylabel('Count', fontsize=12)\n",
    "axes[0].set_title('Exam Performance by Parental Education Level', fontsize=14, fontweight='bold')\n",
    "axes[0].legend(title='Exam Performance', title_fontsize=11, fontsize=10)\n",
    "axes[0].grid(True, alpha=0.3, axis='y')\n",
    "plt.setp(axes[0].xaxis.get_majorticklabels(), rotation=45, ha='right')\n",
    "\n",
    "# Stacked percentage bar chart\n",
    "contingencyPct1 = contingencyTable1.T.div(contingencyTable1.T.sum(axis=1), axis=0) * 100\n",
    "contingencyPct1.plot(kind='bar', stacked=True, ax=axes[1], \n",
    "                      color=['lightblue', 'lightgreen', 'lightcoral'])\n",
    "axes[1].set_xlabel('Parental Education Level', fontsize=12)\n",
    "axes[1].set_ylabel('Percentage', fontsize=12)\n",
    "axes[1].set_title('Exam Performance Distribution by Parental Education (%)', fontsize=14, fontweight='bold')\n",
    "axes[1].legend(title='Exam Performance', title_fontsize=11, fontsize=10)\n",
    "axes[1].grid(True, alpha=0.3, axis='y')\n",
    "plt.setp(axes[1].xaxis.get_majorticklabels(), rotation=45, ha='right')\n",
    "\n",
    "plt.tight_layout()\n",
    "plt.show()"
   ]
  },
  {
   "cell_type": "markdown",
   "metadata": {},
   "source": [
    "### 5.7.2 Exam Performance × Diet Quality\n",
    "\n",
    "**Hypotheses:**\n",
    "- H₀: Exam performance is independent of diet quality\n",
    "- H₁: Exam performance is associated with diet quality"
   ]
  },
  {
   "cell_type": "code",
   "execution_count": 423,
   "metadata": {},
   "outputs": [
    {
     "name": "stdout",
     "output_type": "stream",
     "text": [
      "Contingency Table: Exam Performance × Diet Quality\n",
      "diet_quality     Fair  Good  Poor\n",
      "examPerformance                  \n",
      "High              152   122    56\n",
      "Low               143   121    65\n",
      "Medium            142   135    64\n",
      "\n",
      "Total observations: 1000\n"
     ]
    }
   ],
   "source": [
    "# Create contingency table\n",
    "contingencyTable2 = pd.crosstab(df['examPerformance'], df['diet_quality'])\n",
    "\n",
    "print(\"Contingency Table: Exam Performance × Diet Quality\")\n",
    "print(contingencyTable2)\n",
    "print(f\"\\nTotal observations: {contingencyTable2.sum().sum()}\")"
   ]
  },
  {
   "cell_type": "code",
   "execution_count": 424,
   "metadata": {},
   "outputs": [
    {
     "name": "stdout",
     "output_type": "stream",
     "text": [
      "Chi-Squared Test Results:\n",
      "Chi-squared statistic: 1.9072\n",
      "Degrees of freedom: 4\n",
      "p-value: 7.5281e-01\n",
      "Significance: Not Significant at α = 0.05\n",
      "\n",
      "Effect Size (Cramér's V): 0.0309\n",
      "Interpretation: Negligible effect\n"
     ]
    }
   ],
   "source": [
    "# Perform Chi-squared test\n",
    "chi2Stat, pValue, dof, expectedFreq = chi2_contingency(contingencyTable2)\n",
    "\n",
    "print(\"Chi-Squared Test Results:\")\n",
    "print(f\"Chi-squared statistic: {chi2Stat:.4f}\")\n",
    "print(f\"Degrees of freedom: {dof}\")\n",
    "print(f\"p-value: {pValue:.4e}\")\n",
    "print(f\"Significance: {'Significant' if pValue < 0.05 else 'Not Significant'} at α = 0.05\")\n",
    "\n",
    "# Calculate Cramér's V (effect size)\n",
    "n = contingencyTable2.sum().sum()\n",
    "minDim = min(contingencyTable2.shape[0] - 1, contingencyTable2.shape[1] - 1)\n",
    "cramersV = np.sqrt(chi2Stat / (n * minDim))\n",
    "\n",
    "print(f\"\\nEffect Size (Cramér's V): {cramersV:.4f}\")\n",
    "if cramersV < 0.1:\n",
    "    effect = \"negligible\"\n",
    "elif cramersV < 0.3:\n",
    "    effect = \"small\"\n",
    "elif cramersV < 0.5:\n",
    "    effect = \"medium\"\n",
    "else:\n",
    "    effect = \"large\"\n",
    "print(f\"Interpretation: {effect.capitalize()} effect\")"
   ]
  },
  {
   "cell_type": "code",
   "execution_count": 425,
   "metadata": {},
   "outputs": [
    {
     "name": "stdout",
     "output_type": "stream",
     "text": [
      "\n",
      "Expected Frequencies:\n",
      "diet_quality       Fair    Good   Poor\n",
      "examPerformance                       \n",
      "High             144.21  124.74  61.05\n",
      "Low              143.77  124.36  60.86\n",
      "Medium           149.02  128.90  63.08\n",
      "\n",
      "Minimum expected frequency: 60.87\n",
      "Assumption satisfied: All expected frequencies ≥ 5\n"
     ]
    }
   ],
   "source": [
    "# Display expected frequencies\n",
    "print(\"\\nExpected Frequencies:\")\n",
    "expectedDf = pd.DataFrame(expectedFreq, \n",
    "                          index=contingencyTable2.index,\n",
    "                          columns=contingencyTable2.columns)\n",
    "print(expectedDf.round(2))\n",
    "\n",
    "# Check assumption: all expected frequencies >= 5\n",
    "minExpected = expectedFreq.min()\n",
    "print(f\"\\nMinimum expected frequency: {minExpected:.2f}\")\n",
    "if minExpected >= 5:\n",
    "    print(\"Assumption satisfied: All expected frequencies ≥ 5\")\n",
    "else:\n",
    "    print(\"Warning: Some expected frequencies < 5; results may be unreliable\")"
   ]
  },
  {
   "cell_type": "code",
   "execution_count": 426,
   "metadata": {},
   "outputs": [
    {
     "data": {
      "image/png": "[encoded data removed]",
      "text/plain": [
       "<Figure size 1600x600 with 2 Axes>"
      ]
     },
     "metadata": {},
     "output_type": "display_data"
    }
   ],
   "source": [
    "# Visualize with grouped bar chart\n",
    "fig, axes = plt.subplots(1, 2, figsize=(16, 6))\n",
    "\n",
    "# Grouped bar chart\n",
    "contingencyTable2.T.plot(kind='bar', ax=axes[0], color=['lightblue', 'lightgreen', 'lightcoral'])\n",
    "axes[0].set_xlabel('Diet Quality', fontsize=12)\n",
    "axes[0].set_ylabel('Count', fontsize=12)\n",
    "axes[0].set_title('Exam Performance by Diet Quality', fontsize=14, fontweight='bold')\n",
    "axes[0].legend(title='Exam Performance', title_fontsize=11, fontsize=10)\n",
    "axes[0].grid(True, alpha=0.3, axis='y')\n",
    "plt.setp(axes[0].xaxis.get_majorticklabels(), rotation=0)\n",
    "\n",
    "# Stacked percentage bar chart\n",
    "contingencyPct2 = contingencyTable2.T.div(contingencyTable2.T.sum(axis=1), axis=0) * 100\n",
    "contingencyPct2.plot(kind='bar', stacked=True, ax=axes[1], \n",
    "                      color=['lightblue', 'lightgreen', 'lightcoral'])\n",
    "axes[1].set_xlabel('Diet Quality', fontsize=12)\n",
    "axes[1].set_ylabel('Percentage', fontsize=12)\n",
    "axes[1].set_title('Exam Performance Distribution by Diet Quality (%)', fontsize=14, fontweight='bold')\n",
    "axes[1].legend(title='Exam Performance', title_fontsize=11, fontsize=10)\n",
    "axes[1].grid(True, alpha=0.3, axis='y')\n",
    "plt.setp(axes[1].xaxis.get_majorticklabels(), rotation=0)\n",
    "\n",
    "plt.tight_layout()\n",
    "plt.show()"
   ]
  },
  {
   "cell_type": "markdown",
   "metadata": {},
   "source": [
    "### 5.8 Visualization of Chi-Squared Test Results"
   ]
  },
  {
   "cell_type": "code",
   "execution_count": 427,
   "metadata": {},
   "outputs": [
    {
     "data": {
      "image/png": "[encoded data removed]",
      "text/plain": [
       "<Figure size 1800x1200 with 4 Axes>"
      ]
     },
     "metadata": {},
     "output_type": "display_data"
    }
   ],
   "source": [
    "# Create unified visualization for both chi-squared tests\n",
    "fig, axes = plt.subplots(2, 2, figsize=(18, 12))\n",
    "\n",
    "# Recreate contingency tables for visualization\n",
    "contingencyTable1 = pd.crosstab(df['examPerformance'], df['parental_education_level'])\n",
    "contingencyTable2 = pd.crosstab(df['examPerformance'], df['diet_quality'])\n",
    "\n",
    "# Calculate percentages\n",
    "contingencyPct1 = contingencyTable1.T.div(contingencyTable1.T.sum(axis=1), axis=0) * 100\n",
    "contingencyPct2 = contingencyTable2.T.div(contingencyTable2.T.sum(axis=1), axis=0) * 100\n",
    "\n",
    "# Row 1: Parental Education Level\n",
    "# Grouped bar chart\n",
    "contingencyTable1.T.plot(kind='bar', ax=axes[0, 0], \n",
    "                          color=['lightblue', 'lightgreen', 'lightcoral'])\n",
    "axes[0, 0].set_xlabel('Parental Education Level', fontsize=12)\n",
    "axes[0, 0].set_ylabel('Count', fontsize=12)\n",
    "axes[0, 0].set_title('Exam Performance by Parental Education Level', \n",
    "                      fontsize=13, fontweight='bold')\n",
    "axes[0, 0].legend(title='Exam Performance', title_fontsize=10, fontsize=9)\n",
    "axes[0, 0].grid(True, alpha=0.3, axis='y')\n",
    "plt.setp(axes[0, 0].xaxis.get_majorticklabels(), rotation=45, ha='right')\n",
    "\n",
    "# Stacked percentage bar chart\n",
    "contingencyPct1.plot(kind='bar', stacked=True, ax=axes[0, 1],\n",
    "                      color=['lightblue', 'lightgreen', 'lightcoral'])\n",
    "axes[0, 1].set_xlabel('Parental Education Level', fontsize=12)\n",
    "axes[0, 1].set_ylabel('Percentage', fontsize=12)\n",
    "axes[0, 1].set_title('Exam Performance Distribution by Parental Education (%)', \n",
    "                      fontsize=13, fontweight='bold')\n",
    "axes[0, 1].legend(title='Exam Performance', title_fontsize=10, fontsize=9)\n",
    "axes[0, 1].grid(True, alpha=0.3, axis='y')\n",
    "plt.setp(axes[0, 1].xaxis.get_majorticklabels(), rotation=45, ha='right')\n",
    "\n",
    "# Row 2: Diet Quality\n",
    "# Grouped bar chart\n",
    "contingencyTable2.T.plot(kind='bar', ax=axes[1, 0],\n",
    "                          color=['lightblue', 'lightgreen', 'lightcoral'])\n",
    "axes[1, 0].set_xlabel('Diet Quality', fontsize=12)\n",
    "axes[1, 0].set_ylabel('Count', fontsize=12)\n",
    "axes[1, 0].set_title('Exam Performance by Diet Quality', \n",
    "                      fontsize=13, fontweight='bold')\n",
    "axes[1, 0].legend(title='Exam Performance', title_fontsize=10, fontsize=9)\n",
    "axes[1, 0].grid(True, alpha=0.3, axis='y')\n",
    "plt.setp(axes[1, 0].xaxis.get_majorticklabels(), rotation=0)\n",
    "\n",
    "# Stacked percentage bar chart  \n",
    "contingencyPct2.plot(kind='bar', stacked=True, ax=axes[1, 1],\n",
    "                      color=['lightblue', 'lightgreen', 'lightcoral'])\n",
    "axes[1, 1].set_xlabel('Diet Quality', fontsize=12)\n",
    "axes[1, 1].set_ylabel('Percentage', fontsize=12)\n",
    "axes[1, 1].set_title('Exam Performance Distribution by Diet Quality (%)', \n",
    "                      fontsize=13, fontweight='bold')\n",
    "axes[1, 1].legend(title='Exam Performance', title_fontsize=10, fontsize=9)\n",
    "axes[1, 1].grid(True, alpha=0.3, axis='y')\n",
    "plt.setp(axes[1, 1].xaxis.get_majorticklabels(), rotation=0)\n",
    "\n",
    "plt.tight_layout()\n",
    "plt.show()"
   ]
  },
  {
   "cell_type": "markdown",
   "metadata": {},
   "source": [
    "## 6. Summary and Conclusions"
   ]
  },
  {
   "cell_type": "code",
   "execution_count": 428,
   "metadata": {},
   "outputs": [
    {
     "name": "stdout",
     "output_type": "stream",
     "text": [
      "GROUP COMPARISON ANALYSIS SUMMARY\n",
      "\n",
      "T-TEST RESULTS (2 Groups)\n",
      "1. Study Hours Groups:\n",
      "   Low Study Hours: M = 57.81, SD = 13.28\n",
      "   High Study Hours: M = 80.10, SD = 12.17\n",
      "   t = 27.71, p = 0.0000\n",
      "   Result: Significant\n",
      "\n",
      "2. Mental Health Groups:\n",
      "   Lower Mental Health: M = 64.03, SD = 16.39\n",
      "   Higher Mental Health: M = 73.49, SD = 16.14\n",
      "   t = 9.05, p = 0.0000\n",
      "   Result: Significant\n",
      "\n",
      "ANOVA RESULTS (3 Groups)\n",
      "1. Study Hours Groups:\n",
      "   Low: M = 53.45, SD = 12.40\n",
      "   Medium: M = 69.64, SD = 10.15\n",
      "   High: M = 84.52, SD = 11.38\n",
      "   F = 614.67, p = 0.0000\n",
      "   Result: Significant\n",
      "\n",
      "2. Mental Health Groups:\n",
      "   Low: M = 63.43, SD = 15.94\n",
      "   Medium: M = 67.87, SD = 16.85\n",
      "   High: M = 75.90, SD = 15.49\n",
      "   F = 53.43, p = 0.0000\n",
      "   Result: Significant\n",
      "\n",
      "3. Exercise Frequency Groups:\n",
      "   Low: M = 66.09, SD = 16.97\n",
      "   Medium: M = 69.30, SD = 15.91\n",
      "   High: M = 72.13, SD = 17.04\n",
      "   F = 11.44, p = 0.0000\n",
      "   Result: Significant\n",
      "\n",
      "4. Netflix Hours Groups:\n",
      "   Low: M = 73.14, SD = 15.93\n",
      "   Medium: M = 69.40, SD = 16.61\n",
      "   High: M = 66.51, SD = 17.45\n",
      "   F = 13.07, p = 0.0000\n",
      "   Result: Significant\n",
      "\n",
      "5. Diet Quality Groups:\n",
      "   Poor: M = 68.13, SD = 17.06\n",
      "   Fair: M = 70.43, SD = 16.65\n",
      "   Good: M = 69.37, SD = 17.07\n",
      "   F = 1.27, p = 0.2824\n",
      "   Result: Not Significant\n",
      "\n",
      "CHI-SQUARED TEST RESULTS (Categorical Associations)\n",
      "\n",
      "1. Exam Performance × Parental Education Level:\n",
      "   χ² = 4.16, df = 6, p = 0.6552\n",
      "   Cramér's V = 0.0456\n",
      "   Result: Not Significant\n",
      "\n",
      "2. Exam Performance × Diet Quality:\n",
      "   χ² = 1.91, df = 4, p = 0.7528\n",
      "   Cramér's V = 0.0309\n",
      "   Result: Not Significant\n"
     ]
    }
   ],
   "source": [
    "# Recalculate for summary\n",
    "tStat1, pValue1 = ttest_ind(highStudyScores, lowStudyScores)\n",
    "tStat2, pValue2 = ttest_ind(higherMentalScores, lowerMentalScores)\n",
    "\n",
    "print(\"GROUP COMPARISON ANALYSIS SUMMARY\\n\")\n",
    "\n",
    "print(\"T-TEST RESULTS (2 Groups)\")\n",
    "\n",
    "print(\"1. Study Hours Groups:\")\n",
    "print(f\"   Low Study Hours: M = {lowStudyScores.mean():.2f}, SD = {lowStudyScores.std():.2f}\")\n",
    "print(f\"   High Study Hours: M = {highStudyScores.mean():.2f}, SD = {highStudyScores.std():.2f}\")\n",
    "print(f\"   t = {tStat1:.2f}, p = {pValue1:.4f}\")\n",
    "print(f\"   Result: {'Significant' if pValue1 < 0.05 else 'Not Significant'}\\n\")\n",
    "\n",
    "print(\"2. Mental Health Groups:\")\n",
    "print(f\"   Lower Mental Health: M = {lowerMentalScores.mean():.2f}, SD = {lowerMentalScores.std():.2f}\")\n",
    "print(f\"   Higher Mental Health: M = {higherMentalScores.mean():.2f}, SD = {higherMentalScores.std():.2f}\")\n",
    "print(f\"   t = {tStat2:.2f}, p = {pValue2:.4f}\")\n",
    "print(f\"   Result: {'Significant' if pValue2 < 0.05 else 'Not Significant'}\\n\")\n",
    "\n",
    "print(\"ANOVA RESULTS (3 Groups)\")\n",
    "\n",
    "# Recalculate for summary\n",
    "fStat1, pValue1 = f_oneway(lowStudy, medStudy, highStudy)\n",
    "fStat2, pValue2 = f_oneway(lowMental, medMental, highMental)\n",
    "fStat3, pValue3 = f_oneway(lowExercise, medExercise, highExercise)\n",
    "fStat4, pValue4 = f_oneway(lowNetflix, medNetflix, highNetflix)\n",
    "fStat5, pValue5 = f_oneway(poorDiet, fairDiet, goodDiet)\n",
    "\n",
    "print(\"1. Study Hours Groups:\")\n",
    "print(f\"   Low: M = {lowStudy.mean():.2f}, SD = {lowStudy.std():.2f}\")\n",
    "print(f\"   Medium: M = {medStudy.mean():.2f}, SD = {medStudy.std():.2f}\")\n",
    "print(f\"   High: M = {highStudy.mean():.2f}, SD = {highStudy.std():.2f}\")\n",
    "print(f\"   F = {fStat1:.2f}, p = {pValue1:.4f}\")\n",
    "print(f\"   Result: {'Significant' if pValue1 < 0.05 else 'Not Significant'}\\n\")\n",
    "\n",
    "print(\"2. Mental Health Groups:\")\n",
    "print(f\"   Low: M = {lowMental.mean():.2f}, SD = {lowMental.std():.2f}\")\n",
    "print(f\"   Medium: M = {medMental.mean():.2f}, SD = {medMental.std():.2f}\")\n",
    "print(f\"   High: M = {highMental.mean():.2f}, SD = {highMental.std():.2f}\")\n",
    "print(f\"   F = {fStat2:.2f}, p = {pValue2:.4f}\")\n",
    "print(f\"   Result: {'Significant' if pValue2 < 0.05 else 'Not Significant'}\\n\")\n",
    "\n",
    "print(\"3. Exercise Frequency Groups:\")\n",
    "print(f\"   Low: M = {lowExercise.mean():.2f}, SD = {lowExercise.std():.2f}\")\n",
    "print(f\"   Medium: M = {medExercise.mean():.2f}, SD = {medExercise.std():.2f}\")\n",
    "print(f\"   High: M = {highExercise.mean():.2f}, SD = {highExercise.std():.2f}\")\n",
    "print(f\"   F = {fStat3:.2f}, p = {pValue3:.4f}\")\n",
    "print(f\"   Result: {'Significant' if pValue3 < 0.05 else 'Not Significant'}\\n\")\n",
    "\n",
    "print(\"4. Netflix Hours Groups:\")\n",
    "print(f\"   Low: M = {lowNetflix.mean():.2f}, SD = {lowNetflix.std():.2f}\")\n",
    "print(f\"   Medium: M = {medNetflix.mean():.2f}, SD = {medNetflix.std():.2f}\")\n",
    "print(f\"   High: M = {highNetflix.mean():.2f}, SD = {highNetflix.std():.2f}\")\n",
    "print(f\"   F = {fStat4:.2f}, p = {pValue4:.4f}\")\n",
    "print(f\"   Result: {'Significant' if pValue4 < 0.05 else 'Not Significant'}\\n\")\n",
    "\n",
    "print(\"5. Diet Quality Groups:\")\n",
    "print(f\"   Poor: M = {poorDiet.mean():.2f}, SD = {poorDiet.std():.2f}\")\n",
    "print(f\"   Fair: M = {fairDiet.mean():.2f}, SD = {fairDiet.std():.2f}\")\n",
    "print(f\"   Good: M = {goodDiet.mean():.2f}, SD = {goodDiet.std():.2f}\")\n",
    "print(f\"   F = {fStat5:.2f}, p = {pValue5:.4f}\")\n",
    "print(f\"   Result: {'Significant' if pValue5 < 0.05 else 'Not Significant'}\\n\")\n",
    "\n",
    "print(\"CHI-SQUARED TEST RESULTS (Categorical Associations)\")\n",
    "\n",
    "# Recalculate Chi-squared tests for summary\n",
    "from scipy.stats import chi2_contingency\n",
    "\n",
    "contingencyTable1 = pd.crosstab(df['examPerformance'], df['parental_education_level'])\n",
    "chi2Stat1, pValue1, dof1, _ = chi2_contingency(contingencyTable1)\n",
    "n1 = contingencyTable1.sum().sum()\n",
    "minDim1 = min(contingencyTable1.shape[0] - 1, contingencyTable1.shape[1] - 1)\n",
    "cramersV1 = np.sqrt(chi2Stat1 / (n1 * minDim1))\n",
    "\n",
    "contingencyTable2 = pd.crosstab(df['examPerformance'], df['diet_quality'])\n",
    "chi2Stat2, pValue2, dof2, _ = chi2_contingency(contingencyTable2)\n",
    "n2 = contingencyTable2.sum().sum()\n",
    "minDim2 = min(contingencyTable2.shape[0] - 1, contingencyTable2.shape[1] - 1)\n",
    "cramersV2 = np.sqrt(chi2Stat2 / (n2 * minDim2))\n",
    "\n",
    "print(\"\\n1. Exam Performance × Parental Education Level:\")\n",
    "print(f\"   χ² = {chi2Stat1:.2f}, df = {dof1}, p = {pValue1:.4f}\")\n",
    "print(f\"   Cramér's V = {cramersV1:.4f}\")\n",
    "print(f\"   Result: {'Significant' if pValue1 < 0.05 else 'Not Significant'}\")\n",
    "\n",
    "print(\"\\n2. Exam Performance × Diet Quality:\")\n",
    "print(f\"   χ² = {chi2Stat2:.2f}, df = {dof2}, p = {pValue2:.4f}\")\n",
    "print(f\"   Cramér's V = {cramersV2:.4f}\")\n",
    "print(f\"   Result: {'Significant' if pValue2 < 0.05 else 'Not Significant'}\")\n"
   ]
  }
 ],
 "metadata": {
  "kernelspec": {
   "display_name": "Python 3 (ipykernel)",
   "language": "python",
   "name": "python3"
  },
  "language_info": {
   "codemirror_mode": {
    "name": "ipython",
    "version": 3
   },
   "file_extension": ".py",
   "mimetype": "text/x-python",
   "name": "python",
   "nbconvert_exporter": "python",
   "pygments_lexer": "ipython3",
   "version": "3.13.8"
  }
 },
 "nbformat": 4,
 "nbformat_minor": 4
}
