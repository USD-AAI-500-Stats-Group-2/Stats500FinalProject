{
 "cells": [
  {
   "cell_type": "markdown",
   "metadata": {},
   "source": [
    "# Group Comparison Analysis: Study Habits and Exam Performance\n",
    "## T-tests and ANOVA\n",
    "\n",
    "This notebook explores exam score differences across groups using:\n",
    "- **T-tests**: Comparing exam scores between two groups\n",
    "- **ANOVA**: Comparing exam scores across three or more groups\n",
    "\n",
    "### Research Questions:\n",
    "1. Do students with high study hours score higher on exams than students with low study hours?\n",
    "2. Do students with good mental health score higher on exams than students with poor mental health?\n",
    "3. Does exam performance differ across multiple study hour categories?\n",
    "4. Does exam performance differ across multiple mental health categories?\n",
    "\n",
    "### Statistical Methods:\n",
    "- Independent samples t-test\n",
    "- One-way ANOVA\n",
    "- Post-hoc tests (Tukey HSD)\n",
    "- Effect size measures (Cohen's d, eta-squared)"
   ]
  },
  {
   "cell_type": "code",
   "execution_count": 31,
   "metadata": {},
   "outputs": [],
   "source": [
    "# Import required libraries\n",
    "import pandas as pd\n",
    "import numpy as np\n",
    "import matplotlib.pyplot as plt\n",
    "from scipy import stats\n",
    "from scipy.stats import ttest_ind, f_oneway, shapiro, levene\n",
    "from statsmodels.stats.multicomp import pairwise_tukeyhsd\n",
    "import warnings\n",
    "warnings.filterwarnings('ignore')\n",
    "\n",
    "# Set visualization style\n",
    "plt.style.use('seaborn-v0_8-whitegrid')\n",
    "plt.rcParams['figure.figsize'] = (12, 6)\n",
    "plt.rcParams['font.size'] = 11"
   ]
  },
  {
   "cell_type": "markdown",
   "metadata": {},
   "source": [
    "## 1. Data Loading and Preparation"
   ]
  },
  {
   "cell_type": "code",
   "execution_count": 32,
   "metadata": {},
   "outputs": [
    {
     "name": "stdout",
     "output_type": "stream",
     "text": [
      "Dataset shape: (1000, 16)\n",
      "Variables of interest:\n",
      "       study_hours_per_day  mental_health_rating   exam_score\n",
      "count           1000.00000           1000.000000  1000.000000\n",
      "mean               3.55010              5.438000    69.601500\n",
      "std                1.46889              2.847501    16.888564\n",
      "min                0.00000              1.000000    18.400000\n",
      "25%                2.60000              3.000000    58.475000\n",
      "50%                3.50000              5.000000    70.500000\n",
      "75%                4.50000              8.000000    81.325000\n",
      "max                8.30000             10.000000   100.000000\n"
     ]
    }
   ],
   "source": [
    "# Load the dataset\n",
    "df = pd.read_csv('/Users/jje/src/Stats500FinalProject/data/student_habits_performance.csv', keep_default_na=False)\n",
    "\n",
    "print(f\"Dataset shape: {df.shape}\")\n",
    "print(f\"Variables of interest:\")\n",
    "print(df[['study_hours_per_day', 'mental_health_rating', 'exam_score']].describe())"
   ]
  },
  {
   "cell_type": "markdown",
   "metadata": {},
   "source": [
    "## 2. Creating Group Categories\n",
    "\n",
    "We'll create categorical groups based on continuous variables for group comparisons."
   ]
  },
  {
   "cell_type": "code",
   "execution_count": 33,
   "metadata": {},
   "outputs": [
    {
     "name": "stdout",
     "output_type": "stream",
     "text": [
      "Group Distribution - Study Hours (2 groups): studyGroup2\n",
      "High Study Hours    529\n",
      "Low Study Hours     471\n",
      "Name: count, dtype: int64\n",
      "Group Distribution - Study Hours (3 groups):  studyGroup3\n",
      "Medium    347\n",
      "High      339\n",
      "Low       314\n",
      "Name: count, dtype: int64\n",
      "Group Distribution - Mental Health (2 groups):  mentalGroup2\n",
      "Higher Mental Health    589\n",
      "Lower Mental Health     411\n",
      "Name: count, dtype: int64\n",
      "Group Distribution - Mental Health (3 groups):  mentalGroup3\n",
      "High      382\n",
      "Medium    317\n",
      "Low       301\n",
      "Name: count, dtype: int64\n"
     ]
    }
   ],
   "source": [
    "# Create study hours groups (2 groups for t-test)\n",
    "studyMedian = df['study_hours_per_day'].median()\n",
    "df['studyGroup2'] = df['study_hours_per_day'].apply(\n",
    "    lambda x: 'Low Study Hours' if x < studyMedian else 'High Study Hours'\n",
    ")\n",
    "\n",
    "# Create study hours groups (3 groups for ANOVA)\n",
    "studyQ1 = df['study_hours_per_day'].quantile(0.33)\n",
    "studyQ2 = df['study_hours_per_day'].quantile(0.67)\n",
    "df['studyGroup3'] = df['study_hours_per_day'].apply(\n",
    "    lambda x: 'Low' if x < studyQ1 else ('Medium' if x < studyQ2 else 'High')\n",
    ")\n",
    "\n",
    "# Create mental health groups (2 groups for t-test)\n",
    "mentalMedian = df['mental_health_rating'].median()\n",
    "df['mentalGroup2'] = df['mental_health_rating'].apply(\n",
    "    lambda x: 'Lower Mental Health' if x < mentalMedian else 'Higher Mental Health'\n",
    ")\n",
    "\n",
    "# Create mental health groups (3 groups for ANOVA)\n",
    "mentalQ1 = df['mental_health_rating'].quantile(0.33)\n",
    "mentalQ2 = df['mental_health_rating'].quantile(0.67)\n",
    "df['mentalGroup3'] = df['mental_health_rating'].apply(\n",
    "    lambda x: 'Low' if x < mentalQ1 else ('Medium' if x < mentalQ2 else 'High')\n",
    ")\n",
    "\n",
    "print(f\"Group Distribution - Study Hours (2 groups): {df['studyGroup2'].value_counts()}\")\n",
    "print(f\"Group Distribution - Study Hours (3 groups):  {df['studyGroup3'].value_counts()}\")\n",
    "print(f\"Group Distribution - Mental Health (2 groups):  {df['mentalGroup2'].value_counts()}\")\n",
    "print(f\"Group Distribution - Mental Health (3 groups):  {df['mentalGroup3'].value_counts()}\")"
   ]
  },
  {
   "cell_type": "markdown",
   "metadata": {},
   "source": [
    "## 3. T-Test Analysis (2 Groups)\n",
    "\n",
    "### 3.1 Study Hours Groups: Independent Samples T-Test\n",
    "\n",
    "**Hypotheses:**\n",
    "- H₀: Mean exam scores are equal between low and high study hour groups\n",
    "- H₁: Mean exam scores differ between low and high study hour groups"
   ]
  },
  {
   "cell_type": "code",
   "execution_count": 34,
   "metadata": {},
   "outputs": [
    {
     "name": "stdout",
     "output_type": "stream",
     "text": [
      "Descriptive Statistics by Study Hours Group:\n",
      "Low Study Hours (n=471):\n",
      "Mean: 57.81\n",
      "SD: 13.28\n",
      "Median: 58.40\n",
      "High Study Hours (n=529):\n",
      "Mean: 80.10\n",
      "SD: 12.17\n",
      "Median: 79.60\n",
      "Mean Difference: 22.30 points\n"
     ]
    }
   ],
   "source": [
    "# Separate groups\n",
    "lowStudyScores = df[df['studyGroup2'] == 'Low Study Hours']['exam_score']\n",
    "highStudyScores = df[df['studyGroup2'] == 'High Study Hours']['exam_score']\n",
    "\n",
    "# Descriptive statistics\n",
    "print(\"Descriptive Statistics by Study Hours Group:\")\n",
    "print(f\"Low Study Hours (n={len(lowStudyScores)}):\")\n",
    "print(f\"Mean: {lowStudyScores.mean():.2f}\")\n",
    "print(f\"SD: {lowStudyScores.std():.2f}\")\n",
    "print(f\"Median: {lowStudyScores.median():.2f}\")\n",
    "\n",
    "print(f\"High Study Hours (n={len(highStudyScores)}):\")\n",
    "print(f\"Mean: {highStudyScores.mean():.2f}\")\n",
    "print(f\"SD: {highStudyScores.std():.2f}\")\n",
    "print(f\"Median: {highStudyScores.median():.2f}\")\n",
    "\n",
    "print(f\"Mean Difference: {highStudyScores.mean() - lowStudyScores.mean():.2f} points\")"
   ]
  },
  {
   "cell_type": "code",
   "execution_count": 35,
   "metadata": {},
   "outputs": [
    {
     "name": "stdout",
     "output_type": "stream",
     "text": [
      "1. Normality (Shapiro-Wilk test):\n",
      "Low Study Hours: p = 0.1422 (Normal)\n",
      "High Study Hours: p = 0.0000 (Not Normal)\n",
      "2. Homogeneity of Variance (Levene's test):\n",
      "p = 0.1378 (Equal variances)\n"
     ]
    }
   ],
   "source": [
    "# 1. Normality test\n",
    "statLow, pLow = shapiro(lowStudyScores)\n",
    "statHigh, pHigh = shapiro(highStudyScores)\n",
    "\n",
    "print(\"1. Normality (Shapiro-Wilk test):\")\n",
    "print(f\"Low Study Hours: p = {pLow:.4f} {'(Normal)' if pLow > 0.05 else '(Not Normal)'}\")\n",
    "print(f\"High Study Hours: p = {pHigh:.4f} {'(Normal)' if pHigh > 0.05 else '(Not Normal)'}\")\n",
    "\n",
    "# 2. Homogeneity of variance\n",
    "statLevene, pLevene = levene(lowStudyScores, highStudyScores)\n",
    "print(f\"2. Homogeneity of Variance (Levene's test):\")\n",
    "print(f\"p = {pLevene:.4f} {'(Equal variances)' if pLevene > 0.05 else '(Unequal variances)'}\")"
   ]
  },
  {
   "cell_type": "code",
   "execution_count": 36,
   "metadata": {},
   "outputs": [
    {
     "name": "stdout",
     "output_type": "stream",
     "text": [
      "\n",
      "Independent Samples T-Test Results:\n",
      "  t-statistic: 27.7087\n",
      "  p-value: 8.4759e-126\n",
      "  Significance: Significant at α = 0.05\n",
      "\n",
      "Effect Size (Cohen's d): 1.7554\n",
      "  Interpretation: Large effect\n"
     ]
    }
   ],
   "source": [
    "# Perform t-test\n",
    "tStat, pValue = ttest_ind(highStudyScores, lowStudyScores, equal_var=(pLevene > 0.05))\n",
    "\n",
    "print(\"\\nIndependent Samples T-Test Results:\")\n",
    "print(f\"  t-statistic: {tStat:.4f}\")\n",
    "print(f\"  p-value: {pValue:.4e}\")\n",
    "print(f\"  Significance: {'Significant' if pValue < 0.05 else 'Not Significant'} at α = 0.05\")\n",
    "\n",
    "# Calculate Cohen's d (effect size)\n",
    "pooledStd = np.sqrt(((len(lowStudyScores)-1)*lowStudyScores.std()**2 + \n",
    "                      (len(highStudyScores)-1)*highStudyScores.std()**2) / \n",
    "                     (len(lowStudyScores) + len(highStudyScores) - 2))\n",
    "cohensD = (highStudyScores.mean() - lowStudyScores.mean()) / pooledStd\n",
    "\n",
    "print(f\"\\nEffect Size (Cohen's d): {cohensD:.4f}\")\n",
    "if abs(cohensD) < 0.2:\n",
    "    effect = \"negligible\"\n",
    "elif abs(cohensD) < 0.5:\n",
    "    effect = \"small\"\n",
    "elif abs(cohensD) < 0.8:\n",
    "    effect = \"medium\"\n",
    "else:\n",
    "    effect = \"large\"\n",
    "print(f\"  Interpretation: {effect.capitalize()} effect\")"
   ]
  },
  {
   "cell_type": "markdown",
   "metadata": {},
   "source": [
    "### 3.2 Mental Health Groups: Independent Samples T-Test\n",
    "\n",
    "**Hypotheses:**\n",
    "- H₀: Mean exam scores are equal between lower and higher mental health groups\n",
    "- H₁: Mean exam scores differ between lower and higher mental health groups"
   ]
  },
  {
   "cell_type": "code",
   "execution_count": 37,
   "metadata": {},
   "outputs": [
    {
     "name": "stdout",
     "output_type": "stream",
     "text": [
      "Descriptive Statistics by Mental Health Group:\n",
      "Lower Mental Health (n=411):\n",
      "Mean: 64.03\n",
      "SD: 16.39\n",
      "Median: 64.20\n",
      "Higher Mental Health (n=589):\n",
      "Mean: 73.49\n",
      "SD: 16.14\n",
      "Median: 74.00\n",
      "Mean Difference: 9.45 points\n"
     ]
    }
   ],
   "source": [
    "# Separate groups\n",
    "lowerMentalScores = df[df['mentalGroup2'] == 'Lower Mental Health']['exam_score']\n",
    "higherMentalScores = df[df['mentalGroup2'] == 'Higher Mental Health']['exam_score']\n",
    "\n",
    "# Descriptive statistics\n",
    "print(\"Descriptive Statistics by Mental Health Group:\")\n",
    "print(f\"Lower Mental Health (n={len(lowerMentalScores)}):\")\n",
    "print(f\"Mean: {lowerMentalScores.mean():.2f}\")\n",
    "print(f\"SD: {lowerMentalScores.std():.2f}\")\n",
    "print(f\"Median: {lowerMentalScores.median():.2f}\")\n",
    "\n",
    "print(f\"Higher Mental Health (n={len(higherMentalScores)}):\")\n",
    "print(f\"Mean: {higherMentalScores.mean():.2f}\")\n",
    "print(f\"SD: {higherMentalScores.std():.2f}\")\n",
    "print(f\"Median: {higherMentalScores.median():.2f}\")\n",
    "\n",
    "print(f\"Mean Difference: {higherMentalScores.mean() - lowerMentalScores.mean():.2f} points\")"
   ]
  },
  {
   "cell_type": "code",
   "execution_count": 38,
   "metadata": {},
   "outputs": [
    {
     "name": "stdout",
     "output_type": "stream",
     "text": [
      "1. Normality (Shapiro-Wilk test):\n",
      "Lower Mental Health: p = 0.0834 (Normal)\n",
      "Higher Mental Health: p = 0.0000 (Not Normal)\n",
      "\n",
      "2. Homogeneity of Variance (Levene's test):\n",
      "   p = 0.9070 (Equal variances)\n"
     ]
    }
   ],
   "source": [
    "# Check assumptions\n",
    "\n",
    "# 1. Normality test\n",
    "statLow, pLow = shapiro(lowerMentalScores)\n",
    "statHigh, pHigh = shapiro(higherMentalScores)\n",
    "\n",
    "print(\"1. Normality (Shapiro-Wilk test):\")\n",
    "print(f\"Lower Mental Health: p = {pLow:.4f} {'(Normal)' if pLow > 0.05 else '(Not Normal)'}\")\n",
    "print(f\"Higher Mental Health: p = {pHigh:.4f} {'(Normal)' if pHigh > 0.05 else '(Not Normal)'}\")\n",
    "\n",
    "# 2. Homogeneity of variance\n",
    "statLevene, pLevene = levene(lowerMentalScores, higherMentalScores)\n",
    "print(f\"\\n2. Homogeneity of Variance (Levene's test):\")\n",
    "print(f\"   p = {pLevene:.4f} {'(Equal variances)' if pLevene > 0.05 else '(Unequal variances)'}\")"
   ]
  },
  {
   "cell_type": "code",
   "execution_count": 39,
   "metadata": {},
   "outputs": [
    {
     "name": "stdout",
     "output_type": "stream",
     "text": [
      "Independent Samples T-Test Results:\n",
      "t-statistic: 9.0529\n",
      "p-value: 7.1393e-19\n",
      "Significance: Significant at α = 0.05\n",
      "Effect Size (Cohen's d): 0.5818\n",
      "Interpretation: Medium effect\n"
     ]
    }
   ],
   "source": [
    "# Perform t-test\n",
    "tStat, pValue = ttest_ind(higherMentalScores, lowerMentalScores, equal_var=(pLevene > 0.05))\n",
    "\n",
    "print(\"Independent Samples T-Test Results:\")\n",
    "print(f\"t-statistic: {tStat:.4f}\")\n",
    "print(f\"p-value: {pValue:.4e}\")\n",
    "print(f\"Significance: {'Significant' if pValue < 0.05 else 'Not Significant'} at α = 0.05\")\n",
    "\n",
    "# Calculate Cohen's d (effect size)\n",
    "pooledStd = np.sqrt(((len(lowerMentalScores)-1)*lowerMentalScores.std()**2 + \n",
    "                      (len(higherMentalScores)-1)*higherMentalScores.std()**2) / \n",
    "                     (len(lowerMentalScores) + len(higherMentalScores) - 2))\n",
    "cohensD = (higherMentalScores.mean() - lowerMentalScores.mean()) / pooledStd\n",
    "\n",
    "print(f\"Effect Size (Cohen's d): {cohensD:.4f}\")\n",
    "if abs(cohensD) < 0.2:\n",
    "    effect = \"negligible\"\n",
    "elif abs(cohensD) < 0.5:\n",
    "    effect = \"small\"\n",
    "elif abs(cohensD) < 0.8:\n",
    "    effect = \"medium\"\n",
    "else:\n",
    "    effect = \"large\"\n",
    "print(f\"Interpretation: {effect.capitalize()} effect\")"
   ]
  },
  {
   "cell_type": "markdown",
   "metadata": {},
   "source": [
    "## 4. Visualization of T-Test Results"
   ]
  },
  {
   "cell_type": "code",
   "execution_count": 40,
   "metadata": {},
   "outputs": [
    {
     "data": {
      "image/png": "[encoded data removed]",
      "text/plain": [
       "<Figure size 1600x600 with 2 Axes>"
      ]
     },
     "metadata": {},
     "output_type": "display_data"
    }
   ],
   "source": [
    "# Create comparison plots\n",
    "fig, axes = plt.subplots(1, 2, figsize=(16, 6))\n",
    "\n",
    "# Study hours comparison\n",
    "boxData1 = [lowStudyScores, highStudyScores]\n",
    "bp1 = axes[0].boxplot(boxData1, labels=['Low Study Hours', 'High Study Hours'],\n",
    "                       patch_artist=True, showmeans=True)\n",
    "for patch in bp1['boxes']:\n",
    "    patch.set_facecolor('lightblue')\n",
    "axes[0].set_ylabel('Exam Score', fontsize=12)\n",
    "axes[0].set_title('Exam Scores by Study Hours Group', fontsize=14, fontweight='bold')\n",
    "axes[0].grid(True, alpha=0.3, axis='y')\n",
    "\n",
    "# Mental health comparison\n",
    "boxData2 = [lowerMentalScores, higherMentalScores]\n",
    "bp2 = axes[1].boxplot(boxData2, labels=['Lower Mental Health', 'Higher Mental Health'],\n",
    "                       patch_artist=True, showmeans=True)\n",
    "for patch in bp2['boxes']:\n",
    "    patch.set_facecolor('lightcoral')\n",
    "axes[1].set_ylabel('Exam Score', fontsize=12)\n",
    "axes[1].set_title('Exam Scores by Mental Health Group', fontsize=14, fontweight='bold')\n",
    "axes[1].grid(True, alpha=0.3, axis='y')\n",
    "\n",
    "plt.tight_layout()\n",
    "plt.show()"
   ]
  },
  {
   "cell_type": "markdown",
   "metadata": {},
   "source": [
    "## 5. One-Way ANOVA (3+ Groups)\n",
    "\n",
    "### 5.1 Study Hours Groups: One-Way ANOVA\n",
    "\n",
    "**Hypotheses:**\n",
    "- H₀: Mean exam scores are equal across all study hour groups (Low, Medium, High)\n",
    "- H₁: At least one group mean differs from the others"
   ]
  },
  {
   "cell_type": "code",
   "execution_count": 41,
   "metadata": {},
   "outputs": [
    {
     "name": "stdout",
     "output_type": "stream",
     "text": [
      "Descriptive Statistics by Study Hours Group (3 levels):\n",
      "Low (n=314):\n",
      "Mean: 53.45, SD: 12.40\n",
      "Medium (n=347):\n",
      "Mean: 69.64, SD: 10.15\n",
      "High (n=339):\n",
      "Mean: 84.52, SD: 11.38\n"
     ]
    }
   ],
   "source": [
    "# Separate groups\n",
    "lowStudy = df[df['studyGroup3'] == 'Low']['exam_score']\n",
    "medStudy = df[df['studyGroup3'] == 'Medium']['exam_score']\n",
    "highStudy = df[df['studyGroup3'] == 'High']['exam_score']\n",
    "\n",
    "# Descriptive statistics\n",
    "print(\"Descriptive Statistics by Study Hours Group (3 levels):\")\n",
    "print(f\"Low (n={len(lowStudy)}):\")\n",
    "print(f\"Mean: {lowStudy.mean():.2f}, SD: {lowStudy.std():.2f}\")\n",
    "print(f\"Medium (n={len(medStudy)}):\")\n",
    "print(f\"Mean: {medStudy.mean():.2f}, SD: {medStudy.std():.2f}\")\n",
    "print(f\"High (n={len(highStudy)}):\")\n",
    "print(f\"Mean: {highStudy.mean():.2f}, SD: {highStudy.std():.2f}\")"
   ]
  },
  {
   "cell_type": "code",
   "execution_count": 42,
   "metadata": {},
   "outputs": [
    {
     "name": "stdout",
     "output_type": "stream",
     "text": [
      "1. Normality (Shapiro-Wilk):\n",
      "Low: p = 0.6678\n",
      "Medium: p = 0.7494\n",
      "High: p = 0.0000\n",
      "2. Homogeneity of Variance (Levene's test):\n",
      "p = 0.0003 (Unequal variances)\n"
     ]
    }
   ],
   "source": [
    "# Check assumptions for ANOVA\n",
    "\n",
    "# 1. Normality\n",
    "_, pLow = shapiro(lowStudy)\n",
    "_, pMed = shapiro(medStudy)\n",
    "_, pHigh = shapiro(highStudy)\n",
    "print(\"1. Normality (Shapiro-Wilk):\")\n",
    "print(f\"Low: p = {pLow:.4f}\")\n",
    "print(f\"Medium: p = {pMed:.4f}\")\n",
    "print(f\"High: p = {pHigh:.4f}\")\n",
    "\n",
    "# 2. Homogeneity of variance\n",
    "statLevene, pLevene = levene(lowStudy, medStudy, highStudy)\n",
    "print(f\"2. Homogeneity of Variance (Levene's test):\")\n",
    "print(f\"p = {pLevene:.4f} {'(Equal variances)' if pLevene > 0.05 else '(Unequal variances)'}\")"
   ]
  },
  {
   "cell_type": "code",
   "execution_count": 43,
   "metadata": {},
   "outputs": [
    {
     "name": "stdout",
     "output_type": "stream",
     "text": [
      "One-Way ANOVA Results:\n",
      "F-statistic: 614.6671\n",
      "p-value: 1.1905e-174\n",
      "Significance: Significant at α = 0.05\n",
      "Effect Size (η²): 0.5522\n",
      "Interpretation: Large effect\n"
     ]
    }
   ],
   "source": [
    "# Perform ANOVA\n",
    "fStat, pValue = f_oneway(lowStudy, medStudy, highStudy)\n",
    "\n",
    "print(\"One-Way ANOVA Results:\")\n",
    "print(f\"F-statistic: {fStat:.4f}\")\n",
    "print(f\"p-value: {pValue:.4e}\")\n",
    "print(f\"Significance: {'Significant' if pValue < 0.05 else 'Not Significant'} at α = 0.05\")\n",
    "\n",
    "# Calculate eta-squared (effect size)\n",
    "allScores = pd.concat([lowStudy, medStudy, highStudy])\n",
    "ssTotal = np.sum((allScores - allScores.mean())**2)\n",
    "ssBetween = (len(lowStudy) * (lowStudy.mean() - allScores.mean())**2 + \n",
    "             len(medStudy) * (medStudy.mean() - allScores.mean())**2 + \n",
    "             len(highStudy) * (highStudy.mean() - allScores.mean())**2)\n",
    "etaSquared = ssBetween / ssTotal\n",
    "\n",
    "print(f\"Effect Size (η²): {etaSquared:.4f}\")\n",
    "if etaSquared < 0.01:\n",
    "    effect = \"negligible\"\n",
    "elif etaSquared < 0.06:\n",
    "    effect = \"small\"\n",
    "elif etaSquared < 0.14:\n",
    "    effect = \"medium\"\n",
    "else:\n",
    "    effect = \"large\"\n",
    "print(f\"Interpretation: {effect.capitalize()} effect\")"
   ]
  },
  {
   "cell_type": "code",
   "execution_count": null,
   "metadata": {},
   "outputs": [
    {
     "name": "stdout",
     "output_type": "stream",
     "text": [
      "\n",
      "Post-Hoc Analysis (Tukey HSD):\n",
      " Multiple Comparison of Means - Tukey HSD, FWER=0.05 \n",
      "=====================================================\n",
      "group1 group2 meandiff p-adj  lower    upper   reject\n",
      "-----------------------------------------------------\n",
      "  High    Low -31.0675   0.0 -33.1473 -28.9877   True\n",
      "  High Medium -14.8809   0.0 -16.9087  -12.853   True\n",
      "   Low Medium  16.1866   0.0  14.1184  18.2549   True\n",
      "-----------------------------------------------------\n",
      "Conclusion:\n",
      "Exam scores differ Significantly across study hour groups.\n",
      "See post-hoc results above for pairwise comparisons.\n"
     ]
    }
   ],
   "source": [
    "# If ANOVA is Significant)\n",
    "if pValue < 0.05:\n",
    "    print(\"Post-Hoc Analysis (Tukey HSD):\")\n",
    "    \n",
    "    # Prepare data for Tukey HSD\n",
    "    studyData = df[['exam_score', 'studyGroup3']].copy()\n",
    "    tukey = pairwise_tukeyhsd(endog=studyData['exam_score'], \n",
    "                               groups=studyData['studyGroup3'], \n",
    "                               alpha=0.05)\n",
    "    \n",
    "    print(tukey)\n",
    "    \n",
    "    print(\"Conclusion:\")\n",
    "    print(\"Exam scores differ Significantly across study hour groups.\")\n",
    "    print(\"See post-hoc results above for pairwise comparisons.\")\n",
    "else:\n",
    "    print(\"Conclusion:\")\n",
    "    print(\"No Significant differences in exam scores across study hour groups.\")"
   ]
  },
  {
   "cell_type": "markdown",
   "metadata": {},
   "source": [
    "### 5.2 Mental Health Groups: One-Way ANOVA\n",
    "\n",
    "**Hypotheses:**\n",
    "- H₀: Mean exam scores are equal across all mental health groups (Low, Medium, High)\n",
    "- H₁: At least one group mean differs from the others"
   ]
  },
  {
   "cell_type": "code",
   "execution_count": 45,
   "metadata": {},
   "outputs": [
    {
     "name": "stdout",
     "output_type": "stream",
     "text": [
      "Descriptive Statistics by Mental Health Group (3 levels):\n",
      "Low (n=301):\n",
      "Mean: 63.43, SD: 15.94\n",
      "Medium (n=317):\n",
      "Mean: 67.87, SD: 16.85\n",
      "High (n=382):\n",
      "Mean: 75.90, SD: 15.49\n"
     ]
    }
   ],
   "source": [
    "# Separate groups\n",
    "lowMental = df[df['mentalGroup3'] == 'Low']['exam_score']\n",
    "medMental = df[df['mentalGroup3'] == 'Medium']['exam_score']\n",
    "highMental = df[df['mentalGroup3'] == 'High']['exam_score']\n",
    "\n",
    "# Descriptive statistics\n",
    "print(\"Descriptive Statistics by Mental Health Group (3 levels):\")\n",
    "print(f\"Low (n={len(lowMental)}):\")\n",
    "print(f\"Mean: {lowMental.mean():.2f}, SD: {lowMental.std():.2f}\")\n",
    "print(f\"Medium (n={len(medMental)}):\")\n",
    "print(f\"Mean: {medMental.mean():.2f}, SD: {medMental.std():.2f}\")\n",
    "print(f\"High (n={len(highMental)}):\")\n",
    "print(f\"Mean: {highMental.mean():.2f}, SD: {highMental.std():.2f}\")"
   ]
  },
  {
   "cell_type": "code",
   "execution_count": 46,
   "metadata": {},
   "outputs": [
    {
     "name": "stdout",
     "output_type": "stream",
     "text": [
      "Assumption Checks for ANOVA:\n",
      "Normality (Shapiro-Wilk):\n",
      "Low: p = 0.0848\n",
      "Medium: p = 0.0105\n",
      "High: p = 0.0000\n",
      "2. Homogeneity of Variance (Levene's test):\n",
      "p = 0.2683 (Equal variances)\n"
     ]
    }
   ],
   "source": [
    "# Check assumptions\n",
    "print(\"Assumption Checks for ANOVA:\")\n",
    "\n",
    "# 1. Normality\n",
    "_, pLow = shapiro(lowMental)\n",
    "_, pMed = shapiro(medMental)\n",
    "_, pHigh = shapiro(highMental)\n",
    "print(\"Normality (Shapiro-Wilk):\")\n",
    "print(f\"Low: p = {pLow:.4f}\")\n",
    "print(f\"Medium: p = {pMed:.4f}\")\n",
    "print(f\"High: p = {pHigh:.4f}\")\n",
    "\n",
    "# 2. Homogeneity of variance\n",
    "statLevene, pLevene = levene(lowMental, medMental, highMental)\n",
    "print(f\"2. Homogeneity of Variance (Levene's test):\")\n",
    "print(f\"p = {pLevene:.4f} {'(Equal variances)' if pLevene > 0.05 else '(Unequal variances)'}\")"
   ]
  },
  {
   "cell_type": "code",
   "execution_count": 47,
   "metadata": {},
   "outputs": [
    {
     "name": "stdout",
     "output_type": "stream",
     "text": [
      "\n",
      "One-Way ANOVA Results:\n",
      "  F-statistic: 53.4275\n",
      "  p-value: 9.0758e-23\n",
      "  Significance: Significant at α = 0.05\n",
      "\n",
      "Effect Size (η²): 0.0968\n",
      "  Interpretation: Medium effect\n"
     ]
    }
   ],
   "source": [
    "# Perform ANOVA\n",
    "fStat, pValue = f_oneway(lowMental, medMental, highMental)\n",
    "\n",
    "print(\"\\nOne-Way ANOVA Results:\")\n",
    "print(f\"  F-statistic: {fStat:.4f}\")\n",
    "print(f\"  p-value: {pValue:.4e}\")\n",
    "print(f\"  Significance: {'Significant' if pValue < 0.05 else 'Not Significant'} at α = 0.05\")\n",
    "\n",
    "# Calculate eta-squared (effect size)\n",
    "allScores = pd.concat([lowMental, medMental, highMental])\n",
    "ssTotal = np.sum((allScores - allScores.mean())**2)\n",
    "ssBetween = (len(lowMental) * (lowMental.mean() - allScores.mean())**2 + \n",
    "             len(medMental) * (medMental.mean() - allScores.mean())**2 + \n",
    "             len(highMental) * (highMental.mean() - allScores.mean())**2)\n",
    "etaSquared = ssBetween / ssTotal\n",
    "\n",
    "print(f\"\\nEffect Size (η²): {etaSquared:.4f}\")\n",
    "if etaSquared < 0.01:\n",
    "    effect = \"negligible\"\n",
    "elif etaSquared < 0.06:\n",
    "    effect = \"small\"\n",
    "elif etaSquared < 0.14:\n",
    "    effect = \"medium\"\n",
    "else:\n",
    "    effect = \"large\"\n",
    "print(f\"  Interpretation: {effect.capitalize()} effect\")"
   ]
  },
  {
   "cell_type": "code",
   "execution_count": 48,
   "metadata": {},
   "outputs": [
    {
     "name": "stdout",
     "output_type": "stream",
     "text": [
      "\n",
      "Post-Hoc Analysis (Tukey HSD):\n",
      " Multiple Comparison of Means - Tukey HSD, FWER=0.05 \n",
      "=====================================================\n",
      "group1 group2 meandiff p-adj   lower    upper  reject\n",
      "-----------------------------------------------------\n",
      "  High    Low -12.4716    0.0 -15.3781 -9.5651   True\n",
      "  High Medium  -8.0369    0.0 -10.9021 -5.1717   True\n",
      "   Low Medium   4.4347 0.0018   1.3997  7.4696   True\n",
      "-----------------------------------------------------\n",
      "\n",
      "Conclusion:\n",
      "  Exam scores differ Significantly across mental health groups.\n",
      "  See post-hoc results above for pairwise comparisons.\n"
     ]
    }
   ],
   "source": [
    "# Post-hoc test (if ANOVA is Significant)\n",
    "if pValue < 0.05:\n",
    "    print(\"\\nPost-Hoc Analysis (Tukey HSD):\")\n",
    "    \n",
    "    # Prepare data for Tukey HSD\n",
    "    mentalData = df[['exam_score', 'mentalGroup3']].copy()\n",
    "    tukey = pairwise_tukeyhsd(endog=mentalData['exam_score'], \n",
    "                               groups=mentalData['mentalGroup3'], \n",
    "                               alpha=0.05)\n",
    "    \n",
    "    print(tukey)\n",
    "    \n",
    "    print(\"\\nConclusion:\")\n",
    "    print(\"  Exam scores differ Significantly across mental health groups.\")\n",
    "    print(\"  See post-hoc results above for pairwise comparisons.\")\n",
    "else:\n",
    "    print(\"\\nConclusion:\")\n",
    "    print(\"  No Significant differences in exam scores across mental health groups.\")"
   ]
  },
  {
   "cell_type": "markdown",
   "metadata": {},
   "source": [
    "## 6. Visualization of ANOVA Results"
   ]
  },
  {
   "cell_type": "code",
   "execution_count": 49,
   "metadata": {},
   "outputs": [
    {
     "data": {
      "image/png": "[encoded data removed]",
      "text/plain": [
       "<Figure size 1600x600 with 2 Axes>"
      ]
     },
     "metadata": {},
     "output_type": "display_data"
    }
   ],
   "source": [
    "# Create comparison plots for 3 groups\n",
    "fig, axes = plt.subplots(1, 2, figsize=(16, 6))\n",
    "\n",
    "# Study hours ANOVA visualization\n",
    "boxData1 = [lowStudy, medStudy, highStudy]\n",
    "bp1 = axes[0].boxplot(boxData1, labels=['Low', 'Medium', 'High'],\n",
    "                       patch_artist=True, showmeans=True)\n",
    "colors = ['lightblue', 'lightgreen', 'lightcoral']\n",
    "for patch, color in zip(bp1['boxes'], colors):\n",
    "    patch.set_facecolor(color)\n",
    "axes[0].set_xlabel('Study Hours Group', fontsize=12)\n",
    "axes[0].set_ylabel('Exam Score', fontsize=12)\n",
    "axes[0].set_title('Exam Scores by Study Hours (3 Groups)', fontsize=14, fontweight='bold')\n",
    "axes[0].grid(True, alpha=0.3, axis='y')\n",
    "\n",
    "# Mental health ANOVA visualization\n",
    "boxData2 = [lowMental, medMental, highMental]\n",
    "bp2 = axes[1].boxplot(boxData2, labels=['Low', 'Medium', 'High'],\n",
    "                       patch_artist=True, showmeans=True)\n",
    "for patch, color in zip(bp2['boxes'], colors):\n",
    "    patch.set_facecolor(color)\n",
    "axes[1].set_xlabel('Mental Health Group', fontsize=12)\n",
    "axes[1].set_ylabel('Exam Score', fontsize=12)\n",
    "axes[1].set_title('Exam Scores by Mental Health (3 Groups)', fontsize=14, fontweight='bold')\n",
    "axes[1].grid(True, alpha=0.3, axis='y')\n",
    "\n",
    "plt.tight_layout()\n",
    "plt.show()"
   ]
  },
  {
   "cell_type": "markdown",
   "metadata": {},
   "source": [
    "## 7. Summary and Conclusions"
   ]
  },
  {
   "cell_type": "code",
   "execution_count": 51,
   "metadata": {},
   "outputs": [
    {
     "name": "stdout",
     "output_type": "stream",
     "text": [
      "GROUP COMPARISON ANALYSIS SUMMARY\n",
      "1. Study Hours Groups:\n",
      "Low Study Hours: M = 57.81, SD = 13.28\n",
      "High Study Hours: M = 80.10, SD = 12.17\n",
      "t = 27.71, p = 0.0000\n",
      "Result: Significant\n",
      "2. Mental Health Groups:\n",
      "Lower Mental Health: M = 64.03, SD = 16.39\n",
      "Higher Mental Health: M = 73.49, SD = 16.14\n",
      "t = 9.05, p = 0.0000\n",
      "Result: Significant\n",
      "ANOVA RESULTS (3 Groups)\n",
      "1. Study Hours Groups:\n",
      "Low: M = 53.45\n",
      "Medium: M = 69.64\n",
      "High: M = 84.52\n",
      "F = 614.67, p = 0.0000\n",
      "Result: Significant\n",
      "2. Mental Health Groups:\n",
      "Low: M = 63.43\n",
      "Medium: M = 67.87\n",
      "High: M = 75.90\n",
      "F = 53.43, p = 0.0000\n",
      "Result: Significant\n"
     ]
    }
   ],
   "source": [
    "# Recalculate for summary\n",
    "tStat1, pValue1 = ttest_ind(highStudyScores, lowStudyScores)\n",
    "tStat2, pValue2 = ttest_ind(higherMentalScores, lowerMentalScores)\n",
    "\n",
    "print(\"GROUP COMPARISON ANALYSIS SUMMARY\")\n",
    "\n",
    "print(f\"1. Study Hours Groups:\")\n",
    "print(f\"Low Study Hours: M = {lowStudyScores.mean():.2f}, SD = {lowStudyScores.std():.2f}\")\n",
    "print(f\"High Study Hours: M = {highStudyScores.mean():.2f}, SD = {highStudyScores.std():.2f}\")\n",
    "print(f\"t = {tStat1:.2f}, p = {pValue1:.4f}\")\n",
    "print(f\"Result: {'Significant' if pValue1 < 0.05 else 'Not Significant'}\")\n",
    "\n",
    "print(f\"2. Mental Health Groups:\")\n",
    "print(f\"Lower Mental Health: M = {lowerMentalScores.mean():.2f}, SD = {lowerMentalScores.std():.2f}\")\n",
    "print(f\"Higher Mental Health: M = {higherMentalScores.mean():.2f}, SD = {higherMentalScores.std():.2f}\")\n",
    "print(f\"t = {tStat2:.2f}, p = {pValue2:.4f}\")\n",
    "print(f\"Result: {'Significant' if pValue2 < 0.05 else 'Not Significant'}\")\n",
    "\n",
    "print(\"ANOVA RESULTS (3 Groups)\")\n",
    "\n",
    "# Recalculate for summary\n",
    "fStat1, pValue1 = f_oneway(lowStudy, medStudy, highStudy)\n",
    "fStat2, pValue2 = f_oneway(lowMental, medMental, highMental)\n",
    "\n",
    "print(f\"1. Study Hours Groups:\")\n",
    "print(f\"Low: M = {lowStudy.mean():.2f}\")\n",
    "print(f\"Medium: M = {medStudy.mean():.2f}\")\n",
    "print(f\"High: M = {highStudy.mean():.2f}\")\n",
    "print(f\"F = {fStat1:.2f}, p = {pValue1:.4f}\")\n",
    "print(f\"Result: {'Significant' if pValue1 < 0.05 else 'Not Significant'}\")\n",
    "\n",
    "print(f\"2. Mental Health Groups:\")\n",
    "print(f\"Low: M = {lowMental.mean():.2f}\")\n",
    "print(f\"Medium: M = {medMental.mean():.2f}\")\n",
    "print(f\"High: M = {highMental.mean():.2f}\")\n",
    "print(f\"F = {fStat2:.2f}, p = {pValue2:.4f}\")\n",
    "print(f\"Result: {'Significant' if pValue2 < 0.05 else 'Not Significant'}\") "
   ]
  }
 ],
 "metadata": {
  "kernelspec": {
   "display_name": "Python 3 (ipykernel)",
   "language": "python",
   "name": "python3"
  },
  "language_info": {
   "codemirror_mode": {
    "name": "ipython",
    "version": 3
   },
   "file_extension": ".py",
   "mimetype": "text/x-python",
   "name": "python",
   "nbconvert_exporter": "python",
   "pygments_lexer": "ipython3",
   "version": "3.13.8"
  }
 },
 "nbformat": 4,
 "nbformat_minor": 4
}
